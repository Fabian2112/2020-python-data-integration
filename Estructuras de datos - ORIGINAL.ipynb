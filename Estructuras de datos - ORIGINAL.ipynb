{
 "cells": [
  {
   "cell_type": "markdown",
   "metadata": {},
   "source": [
    "# Variables\n",
    "\n",
    "### Son objetos que contienen valores \n",
    "\n",
    "#### El tipo de variable se asigna en forma automatica dependiendo del valor\n",
    "\n",
    "- Cadena de caracteres (str)   \n",
    "- Números con decimales (float)\n",
    "- Números enteros (int)\n",
    "- Buleanos (bool)\n",
    "\n",
    "### Los nombres de los objetos pueden contener letras, números y \"_\", pero no pueden comenzar por un número."
   ]
  },
  {
   "cell_type": "code",
   "execution_count": 3,
   "metadata": {},
   "outputs": [],
   "source": [
    "#Tomar en cuenta que se diferencian mayúsculas de minúsculas\n",
    "a = 10\n",
    "A = 15\n",
    "b = 20\n",
    "c = \"Hola Mundo\"      #Con comillas dobles\n",
    "d = 'Hola otro mundo' #Con comillas simples\n",
    "e = True              #La primera va mayúscula\n",
    "f = False             #La primera va mayúscula\n"
   ]
  },
  {
   "cell_type": "markdown",
   "metadata": {},
   "source": [
    "### Para ver en pantalla el valor de una viarable usamos la funcion\n",
    "<font style=\"font-size: 30px\" color='blue'>print()</font>"
   ]
  },
  {
   "cell_type": "code",
   "execution_count": 4,
   "metadata": {},
   "outputs": [
    {
     "name": "stdout",
     "output_type": "stream",
     "text": [
      "10\n",
      "15\n",
      "20\n",
      "Hola Mundo\n",
      "Hola otro mundo\n",
      "10 15 20 Hola Mundo -un string cualquiera -  True 999\n"
     ]
    }
   ],
   "source": [
    "print(a)\n",
    "print(A)\n",
    "print(b)\n",
    "print(c)\n",
    "print(d)\n",
    "print(a, A, b, c, \"-un string cualquiera - \", e, 999)"
   ]
  },
  {
   "cell_type": "markdown",
   "metadata": {},
   "source": [
    "\n",
    "\n",
    "### Se pueden hacer operaciones entre variables"
   ]
  },
  {
   "cell_type": "code",
   "execution_count": null,
   "metadata": {},
   "outputs": [],
   "source": [
    "h = a + b\n",
    "print(h)\n",
    "\n",
    "t = c + d\n",
    "print(t)\n",
    "\n"
   ]
  },
  {
   "cell_type": "markdown",
   "metadata": {},
   "source": [
    "### Se pueden aser asignaciones simultaneas"
   ]
  },
  {
   "cell_type": "code",
   "execution_count": null,
   "metadata": {},
   "outputs": [],
   "source": [
    "q, w, e = 1, 2, 33\n",
    "print(q)\n",
    "print(w)\n",
    "print(e)"
   ]
  },
  {
   "cell_type": "markdown",
   "metadata": {},
   "source": [
    "# Pregunta\n",
    "## ¿que pasa en este caso?"
   ]
  },
  {
   "cell_type": "code",
   "execution_count": null,
   "metadata": {},
   "outputs": [],
   "source": [
    "aa = 10\n",
    "bb = 20\n",
    "cc = 30\n",
    "\n",
    "aa, bb, cc = aa + bb, bb - aa, cc * bb\n",
    "\n",
    "#¿Que valen aa, bb, cc?"
   ]
  },
  {
   "cell_type": "markdown",
   "metadata": {},
   "source": [
    "### Para consultar el tipo de variable (u objeto) se utiliza la funcion\n",
    "\n",
    "<font style=\"font-size: 30px\" color='blue'>type()</font>"
   ]
  },
  {
   "cell_type": "code",
   "execution_count": null,
   "metadata": {},
   "outputs": [],
   "source": [
    "print(type(a))\n",
    "print(type(c))\n",
    "print(type(f))"
   ]
  },
  {
   "cell_type": "markdown",
   "metadata": {},
   "source": [
    "# Listas\n",
    "\n",
    "### Son colecciones mutables y heterogéneas de elementos indexados\n",
    "\n",
    "### Una lista puede contener números, cadenas, booleanos e inclusive otras listas (y muchas cosas mas)\n",
    "#### Los elementos de las listas se contienen entre corchetes [ ]"
   ]
  },
  {
   "cell_type": "code",
   "execution_count": 1,
   "metadata": {},
   "outputs": [
    {
     "name": "stdout",
     "output_type": "stream",
     "text": [
      "[1, 3, 20.3, 'Hola Carola', True]\n"
     ]
    }
   ],
   "source": [
    "a = [1, 3, 20.3, \"Hola Carola\", True]\n",
    "print(a)\n",
    "\n"
   ]
  },
  {
   "cell_type": "markdown",
   "metadata": {},
   "source": [
    "### Los elemetos de las listas se enumeran de izquierda a derecha, comenzando por cero, y sin faltantes."
   ]
  },
  {
   "cell_type": "code",
   "execution_count": null,
   "metadata": {},
   "outputs": [],
   "source": [
    "print(a[0])\n",
    "print(a[1])\n",
    "\n",
    "a[1] = 99 #Asi se modifica un elemento\n",
    "print(a)\n",
    "print(a[0]+a[2])"
   ]
  },
  {
   "cell_type": "markdown",
   "metadata": {},
   "source": [
    "## para agregar nuevos elementos al final  de la lista se utiliza el método\n",
    "<font style=\"font-size: 30px\" color='blue'>append()</font>"
   ]
  },
  {
   "cell_type": "code",
   "execution_count": null,
   "metadata": {},
   "outputs": [],
   "source": [
    "a.append(-100)\n",
    "print(a)\n",
    "\n",
    "a.append(\"Pajarito\")\n",
    "print(a)"
   ]
  },
  {
   "cell_type": "markdown",
   "metadata": {},
   "source": [
    "## para insertar nuevos elementos en cualquier posicion de la lista se utiliza el método\n",
    "<font style=\"font-size: 30px\" color='blue'>insert(posición, elemento)</font>"
   ]
  },
  {
   "cell_type": "code",
   "execution_count": null,
   "metadata": {},
   "outputs": [],
   "source": [
    "a.insert(2,\"cosa fea\")\n",
    "print(a)"
   ]
  },
  {
   "cell_type": "markdown",
   "metadata": {},
   "source": [
    "## para eliminar <u>*un*</u> elemento se utiliza el método\n",
    "\n",
    "<font style=\"font-size: 30px\" color='blue'>pop(**posicion**)</font>\n",
    "## El método pop() ademas de eliminar <u>*un*</u> elemento lo retorna\n"
   ]
  },
  {
   "cell_type": "code",
   "execution_count": null,
   "metadata": {},
   "outputs": [],
   "source": [
    "a = [1, 99, 20.3, 'Hola Carola', True, -100, 'Pajarito']\n",
    "print(a)\n",
    "x = a.pop(1)\n",
    "print(a)\n",
    "print(x)"
   ]
  },
  {
   "cell_type": "markdown",
   "metadata": {},
   "source": [
    "## Pregunta\n",
    "### ¿Como hago para eliminar los elementos -100 y 20.3 de la lista?"
   ]
  },
  {
   "cell_type": "code",
   "execution_count": 1,
   "metadata": {},
   "outputs": [],
   "source": [
    "#Complete aquí"
   ]
  },
  {
   "cell_type": "code",
   "execution_count": null,
   "metadata": {},
   "outputs": [],
   "source": [
    "cc = [1,2,3] == [1,3,2]\n",
    "print(cc)"
   ]
  },
  {
   "cell_type": "markdown",
   "metadata": {},
   "source": [
    "# Se puede aplicar un rebanado (o \"slicing\") a las listas\n",
    "### lista[desde : hasta]  El final se excluye del resultado"
   ]
  },
  {
   "cell_type": "code",
   "execution_count": null,
   "metadata": {},
   "outputs": [],
   "source": [
    "print(a[1:4])    #Elementos con subindice 1,2,3 de nuestra lista"
   ]
  },
  {
   "cell_type": "markdown",
   "metadata": {},
   "source": [
    "## Si el \"desde\" se omite se toma desde el primer elemento"
   ]
  },
  {
   "cell_type": "code",
   "execution_count": null,
   "metadata": {},
   "outputs": [],
   "source": [
    "print(a)\n",
    "print(a[:4])"
   ]
  },
  {
   "cell_type": "markdown",
   "metadata": {},
   "source": [
    "## Si el \"hasta\" se omite se toma hasta el último elemento"
   ]
  },
  {
   "cell_type": "code",
   "execution_count": null,
   "metadata": {},
   "outputs": [],
   "source": [
    "print(a)\n",
    "print(a[2:])"
   ]
  },
  {
   "cell_type": "markdown",
   "metadata": {},
   "source": [
    "## Índices negativos\n",
    "### Funcionan parecidos a los ya aprendidos, pero cuentan de atrás hacia adelante"
   ]
  },
  {
   "cell_type": "code",
   "execution_count": null,
   "metadata": {},
   "outputs": [],
   "source": [
    "a = [10,-5,333,10,0,45,-45,100,10,2+3]\n",
    "print(a)\n",
    "print(a[-1])     #El último elemento de la lista\n",
    "print(a[-2])     #El anteúltimo elemento de la lista\n",
    "\n",
    "print(a[2:-1])    #desde el tercer elemento hasta al anteúltimo (el final se excluye)"
   ]
  },
  {
   "cell_type": "markdown",
   "metadata": {},
   "source": [
    "<br><br><br><br><font style=\"font-size: 30px\" color='blue'>Desafío</font>\n",
    "## Tomando en cuenta lo aprendido, escribir en <u>una línea</u> el código para quitar el elemento que esté al principio de una lista cualquiera y agregarlo al final.\n",
    "# Una rotación de elementos\n",
    "\n",
    "## j =  [1, 20.3, 'Hola Carola', True, -100, 'Pajarito']\n",
    "## j = [20.3, 'Hola Carola', True, -100, 'Pajarito',1]"
   ]
  },
  {
   "cell_type": "code",
   "execution_count": null,
   "metadata": {},
   "outputs": [],
   "source": [
    "j = [20.3, 'Hola Carola', True, -100, 'Pajarito',1]"
   ]
  },
  {
   "cell_type": "code",
   "execution_count": null,
   "metadata": {},
   "outputs": [],
   "source": [
    "#SOLO una línea\n"
   ]
  },
  {
   "cell_type": "markdown",
   "metadata": {},
   "source": [
    "# Algo un poco mas entretenido con listas\n",
    "- len()\n",
    "- sum()\n",
    "- max()\n",
    "- min()\n",
    "- sorted()\n",
    "- sort()\n",
    "- in\n",
    "- not in\n",
    "- index()\n",
    "- count()"
   ]
  },
  {
   "cell_type": "code",
   "execution_count": null,
   "metadata": {},
   "outputs": [],
   "source": [
    "lista = [10,-5,333,10,0,45,-45,100,10,2+3]\n",
    "print(lista)"
   ]
  },
  {
   "cell_type": "code",
   "execution_count": 2,
   "metadata": {},
   "outputs": [],
   "source": [
    "#Pruebe aquí lo que acaba de aprender\n",
    "\n"
   ]
  },
  {
   "cell_type": "markdown",
   "metadata": {},
   "source": [
    "<br><br><br><br><font style=\"font-size: 40px\" color='blue'>OJO al copiar, puede salir mal.</font>\n",
    "## Explicación en vivo. <br><br><br><br>\n",
    "\n",
    "\n",
    "\n"
   ]
  },
  {
   "cell_type": "markdown",
   "metadata": {},
   "source": [
    "# Cadenas de caracteres (strings).\n",
    "## Un string es una colección ordenada de elementos (caracteres) con algunas similitudes con las listas."
   ]
  },
  {
   "cell_type": "code",
   "execution_count": null,
   "metadata": {},
   "outputs": [],
   "source": [
    "a = \"Curzo de Python\"\n",
    "print(a[1])   #Caracter en el subindice 1\n",
    "print(a[2:])  #Caracteres de...\n",
    "print(a[:-2]) #Tambien este\n"
   ]
  },
  {
   "cell_type": "markdown",
   "metadata": {},
   "source": [
    "## Si queremos cambiar la \"z\" por una \"s\", ¿deberiamos hacer algo asi?"
   ]
  },
  {
   "cell_type": "code",
   "execution_count": null,
   "metadata": {},
   "outputs": [],
   "source": [
    "a[3] = \"s\"  #En las listas esto funciona"
   ]
  },
  {
   "cell_type": "markdown",
   "metadata": {},
   "source": [
    "## Los string son <font style=\"font-size: 22px\" color='blue'><u>objetos inmutables</u></font>.\n",
    "### Para modificar un string hay que crearlo nuevamente."
   ]
  },
  {
   "cell_type": "code",
   "execution_count": null,
   "metadata": {},
   "outputs": [],
   "source": [
    "a = \"Curso de Python\""
   ]
  },
  {
   "cell_type": "markdown",
   "metadata": {},
   "source": [
    "## Hay algunos (muchos en realidad) métodos para modificar un string, pero todos ellos entregan una copia del string modificado sin alterar el original.\n",
    "\n",
    "- capitalize()\n",
    "- lower()\n",
    "- upper()\n",
    "- swapcase()\n",
    "- title()\n",
    "- y varios etc.\n"
   ]
  },
  {
   "cell_type": "code",
   "execution_count": null,
   "metadata": {},
   "outputs": [],
   "source": [
    "\"so\" in a   #   \"so\" esta en a?"
   ]
  },
  {
   "cell_type": "code",
   "execution_count": null,
   "metadata": {},
   "outputs": [],
   "source": [
    "a.index(\"so\")  #   ¿en que posición comienza?"
   ]
  },
  {
   "cell_type": "code",
   "execution_count": null,
   "metadata": {},
   "outputs": [],
   "source": [
    "a.count(\"o\")   #¿Cuantas \"o\" hay?"
   ]
  },
  {
   "cell_type": "code",
   "execution_count": null,
   "metadata": {},
   "outputs": [],
   "source": [
    "a.upper()"
   ]
  },
  {
   "cell_type": "code",
   "execution_count": null,
   "metadata": {},
   "outputs": [],
   "source": [
    "print(a) "
   ]
  },
  {
   "cell_type": "markdown",
   "metadata": {},
   "source": [
    "## Hay muchas cosas más para explicar sobre el objeto string..."
   ]
  },
  {
   "cell_type": "code",
   "execution_count": null,
   "metadata": {},
   "outputs": [],
   "source": []
  },
  {
   "cell_type": "markdown",
   "metadata": {},
   "source": [
    "# Tuplas\n",
    "### Son colecciones <u>IN</u>mutables (nótese el IN) y heterogéneas de elementos (o algo así)\n",
    "\n",
    "### Una tupla puede contener números, cadenas, booleanos e inclusive otras tuplas y listas (y muchas cosas mas)\n",
    "#### Los elementos de las tuplas se contienen entre paréntesis ( )"
   ]
  },
  {
   "cell_type": "code",
   "execution_count": null,
   "metadata": {},
   "outputs": [],
   "source": [
    "t = (1,2,3,66)\n",
    "print(t)"
   ]
  },
  {
   "cell_type": "code",
   "execution_count": null,
   "metadata": {},
   "outputs": [],
   "source": [
    "#   ¿y esto?\n",
    "t[1] = (30/3)*4 + (t[0]/2))"
   ]
  },
  {
   "cell_type": "markdown",
   "metadata": {},
   "source": [
    "# Se pueden utilizar con tuplas estas y otras funciones\n",
    "- len()\n",
    "- sum()\n",
    "- max()\n",
    "- min()\n",
    "- sorted()\n",
    "- in\n",
    "- not in\n",
    "\n",
    "## ¿Te resultan conocidas?"
   ]
  },
  {
   "cell_type": "code",
   "execution_count": null,
   "metadata": {},
   "outputs": [],
   "source": [
    "print(t)\n",
    "print(sum(t))\n",
    "print(len(t))\n",
    "print(max(t))\n",
    "print(min(t))\n",
    "print(sorted(t))\n",
    "print(2 in t)\n",
    "print(4 in t)\n",
    "print(4 not in t)"
   ]
  },
  {
   "cell_type": "markdown",
   "metadata": {},
   "source": [
    "## Pero las tuplas tiene solamente 2 métodos:\n",
    "### Las listas tienen MILLONES!\n",
    "- index()\n",
    "- count()"
   ]
  },
  {
   "cell_type": "markdown",
   "metadata": {},
   "source": [
    "## Entonces, ¿para que sireven las tuplas si tengo listas?\n",
    "### Las tuplas por sus caracteristicas de inmutabilidad se procesan más rápido y usan menos memoria que las listas."
   ]
  },
  {
   "cell_type": "code",
   "execution_count": null,
   "metadata": {},
   "outputs": [],
   "source": []
  },
  {
   "cell_type": "markdown",
   "metadata": {},
   "source": [
    "# Bucle for\n",
    "## Los bucles \"for\" nos permitern recorrer (ITERAR) un objeto recorrible (ITERABLE), tal como las listas, las tuplas, los strings, y algunas cosas mas\n",
    "\n",
    "## La variable X de este ejemplo se crea en el momento de leerse la linea FOR y va tomando de a uno de los elemento del objeto iterado"
   ]
  },
  {
   "cell_type": "code",
   "execution_count": null,
   "metadata": {},
   "outputs": [],
   "source": [
    "a = [1, -10, \"Curzo de Python sin Z\",8.52, True, 100]\n",
    "#x = [2,3,4]\n",
    "for x in a:\n",
    "    print(x)\n",
    "    print(\"Ejemplo del bucle FOR\")\n",
    "    n = 10\n",
    "    n += 1\n",
    "    print()\n",
    "\n",
    "print(\"FIN\")\n",
    "print(x)"
   ]
  },
  {
   "cell_type": "markdown",
   "metadata": {},
   "source": [
    "## Iterando un string"
   ]
  },
  {
   "cell_type": "code",
   "execution_count": 5,
   "metadata": {},
   "outputs": [
    {
     "name": "stdout",
     "output_type": "stream",
     "text": [
      "h\n",
      "o\n",
      "l\n",
      "a\n",
      "!\n",
      " \n",
      "a\n",
      "m\n",
      "i\n",
      "g\n",
      "o\n",
      "s\n"
     ]
    }
   ],
   "source": [
    "a = \"hola! amigos\"\n",
    "for x in a:\n",
    "    print(x)"
   ]
  },
  {
   "cell_type": "markdown",
   "metadata": {},
   "source": [
    "<br><br><br><br><font style=\"font-size: 30px\" color='blue'>Desafío</font>\n",
    "## ¿Que secuencia de números vamos a ver?"
   ]
  },
  {
   "cell_type": "code",
   "execution_count": null,
   "metadata": {},
   "outputs": [],
   "source": [
    "a = [2,4,1,0,3]\n",
    "for x in a:\n",
    "    print(a[x])"
   ]
  },
  {
   "cell_type": "markdown",
   "metadata": {},
   "source": [
    "<br><br><br><br><font style=\"font-size: 30px\" color='blue'>Desafio 2.0</font>\n",
    "## ¿Como hago para ver en pantalla los numeros del 1 al 10?\n",
    "## ¿Y del 1 al 10000?"
   ]
  },
  {
   "cell_type": "code",
   "execution_count": null,
   "metadata": {},
   "outputs": [],
   "source": []
  },
  {
   "cell_type": "code",
   "execution_count": null,
   "metadata": {},
   "outputs": [],
   "source": []
  },
  {
   "cell_type": "code",
   "execution_count": null,
   "metadata": {},
   "outputs": [],
   "source": []
  },
  {
   "cell_type": "code",
   "execution_count": null,
   "metadata": {},
   "outputs": [],
   "source": []
  },
  {
   "cell_type": "code",
   "execution_count": null,
   "metadata": {},
   "outputs": [],
   "source": []
  },
  {
   "cell_type": "code",
   "execution_count": null,
   "metadata": {},
   "outputs": [],
   "source": []
  },
  {
   "cell_type": "code",
   "execution_count": null,
   "metadata": {},
   "outputs": [],
   "source": []
  },
  {
   "cell_type": "code",
   "execution_count": null,
   "metadata": {},
   "outputs": [],
   "source": []
  },
  {
   "cell_type": "markdown",
   "metadata": {},
   "source": [
    "# La función range()\n",
    "## <font style=\"font-size: 22px\" color='blue'><u>range()</u></font> nos devuelve una secuencia iterable de numeros"
   ]
  },
  {
   "cell_type": "code",
   "execution_count": null,
   "metadata": {},
   "outputs": [],
   "source": [
    "for x in range(10): #una secuencia de 10 números, del 0 al 9\n",
    "    print(x)"
   ]
  },
  {
   "cell_type": "markdown",
   "metadata": {},
   "source": [
    "## range(desde, hasta[excluido])"
   ]
  },
  {
   "cell_type": "code",
   "execution_count": null,
   "metadata": {},
   "outputs": [],
   "source": [
    "for x in range(2,10):\n",
    "    print(x, x*2, x**2 - 1)"
   ]
  },
  {
   "cell_type": "markdown",
   "metadata": {},
   "source": [
    "## range(desde, hasta[excluido], incremento)"
   ]
  },
  {
   "cell_type": "code",
   "execution_count": null,
   "metadata": {},
   "outputs": [],
   "source": [
    "for x in range(2, 20, 3):\n",
    "    print(x,\"es la mitad de\", x*2)"
   ]
  },
  {
   "cell_type": "code",
   "execution_count": null,
   "metadata": {},
   "outputs": [],
   "source": []
  },
  {
   "cell_type": "markdown",
   "metadata": {},
   "source": [
    "<br><br><br><br><font style=\"font-size: 30px\" color='blue'>Desafío matemático</font>\n",
    "## ¿Como hago para ver en pantalla lo siguiente?\n",
    "### 2 x 1 = 2\n",
    "### 2 x 2 = 4\n",
    "### 2 x 3 = 6\n",
    "### 2 x 4 = 8\n",
    "### 2 x 5 = 10\n",
    "### 2 x 6 = 12\n",
    "### 2 x 7 = 14\n",
    "### 2 x 8 = 16\n",
    "### 2 x 9 = 18\n",
    "### 2 x 10 = 20"
   ]
  },
  {
   "cell_type": "code",
   "execution_count": null,
   "metadata": {},
   "outputs": [],
   "source": [
    "#El código solo necesita de 3 líneas, la segunda incluye a FOR y a RANGE,\n",
    "# y la tercera es un PRINT()\n",
    "\n",
    "tabla = 2   #En caso de querer la tabla del 2\n",
    "for x in range(???):\n",
    "    print(???)  "
   ]
  },
  {
   "cell_type": "markdown",
   "metadata": {},
   "source": [
    "# Combinando conocimientos adquiridos"
   ]
  },
  {
   "cell_type": "code",
   "execution_count": null,
   "metadata": {},
   "outputs": [],
   "source": [
    "a = []\n",
    "for x in range(3, 20, 2):\n",
    "    a.append(x)\n",
    "print(a)\n",
    "\n",
    "b = []\n",
    "for x in range(3, 30, 5):\n",
    "    b.append(x%3)\n",
    "print(b)\n",
    "\n",
    "c = []\n",
    "for x in range(3, 30, 5):\n",
    "    c.append(x//2)\n",
    "print(c)\n",
    "\n",
    "d = \"Curso de Python\"   #El LEN(D) es 15\n",
    "l = []\n",
    "for x in range(len(d)):   # Y ESTO QUE ES?\n",
    "    l.append(d[x:x+2])\n",
    "print(l)"
   ]
  },
  {
   "cell_type": "markdown",
   "metadata": {},
   "source": [
    "# FOR anidados"
   ]
  },
  {
   "cell_type": "code",
   "execution_count": null,
   "metadata": {},
   "outputs": [],
   "source": [
    "for x in range(4):\n",
    "    for y in range(3):\n",
    "        print(\"¿como?\",x,y)"
   ]
  },
  {
   "cell_type": "code",
   "execution_count": null,
   "metadata": {},
   "outputs": [],
   "source": [
    "for x in range(4):\n",
    "    for y in range(3):\n",
    "        print(\"¿que?\",x,y)\n",
    "        \n",
    "    print()\n",
    "    \n",
    "    for y in range(3, 0, -1):\n",
    "        print(\"¿como?\",x,y) \n",
    "        \n",
    "    print()"
   ]
  },
  {
   "cell_type": "markdown",
   "metadata": {},
   "source": [
    "# Sentencia  condicional IF\n",
    "### y ahora... ¿que hago?"
   ]
  },
  {
   "cell_type": "code",
   "execution_count": null,
   "metadata": {},
   "outputs": [],
   "source": [
    "valor = int(input(\"Ingrese un número: \")) #Lo ingresado va a parar a la variable \"valor\" \n",
    "print()\n",
    "if valor > 10:\n",
    "    print(\"Hola. Ingresaste un \", valor)\n",
    "    print(\"El doble de\", valor , \"es\", valor * 2)\n",
    "    print(\"La mitad de\", valor , \"es\", valor / 2)\n",
    "else:\n",
    "    print(\"Chau. Ingresaste un \", valor)\n",
    "    print(\"El doble de\", valor , \"es\", valor * 2)\n",
    "    print(\"La mitad de\", valor , \"es\", valor / 2)    "
   ]
  },
  {
   "cell_type": "markdown",
   "metadata": {},
   "source": [
    "## Algo mas con IF"
   ]
  },
  {
   "cell_type": "code",
   "execution_count": null,
   "metadata": {},
   "outputs": [],
   "source": [
    "valor = int(input(\"Ingrese un número: \")) #Lo ingresado va a parar a la variable \"valor\" \n",
    "print()\n",
    "\n",
    "if valor >= 10:\n",
    "    print(\"Lo ingresado es mayor o igual a 10\")\n",
    "\n",
    "elif valor > 5:\n",
    "    print(\"Lo ingresado es mayor a 5 pero menor que 10\")\n",
    "\n",
    "elif valor > 1:\n",
    "    print(\"Lo ingresado es mayor a 1\")\n",
    "\n",
    "else:\n",
    "    print(\"Lo ingresado es menor que 1\")"
   ]
  },
  {
   "cell_type": "markdown",
   "metadata": {},
   "source": [
    "# Combinando conocimientos adquiridos"
   ]
  },
  {
   "cell_type": "code",
   "execution_count": null,
   "metadata": {},
   "outputs": [],
   "source": [
    "valor = int(input(\"Ingrese un número: \")) #Lo ingresado va a parar \n",
    "                                        # a la variable \"valor\" \n",
    "print()\n",
    "\n",
    "if valor >= 10:\n",
    "    a = []\n",
    "    for x in range(10):\n",
    "        a.append(x**2)\n",
    "    print(a)\n",
    "    \n",
    "elif valor > 5:\n",
    "    texto = \"Este es el curso de Python\"\n",
    "    letras = texto.count(\"e\")\n",
    "    print(letras)\n",
    "    \n",
    "elif valor > 1:\n",
    "    texto = \"Este es el curso de Python\"\n",
    "    a = []\n",
    "    for x in texto:\n",
    "        if x ==\"e\":\n",
    "            a.append(x)\n",
    "    print(a)\n",
    "    \n",
    "else:\n",
    "    a = []\n",
    "    for x in range(2,100,3):\n",
    "        for y in range(3,100,5):\n",
    "            if x % y == 0:\n",
    "                a.append(x)\n",
    "    print(a)"
   ]
  },
  {
   "cell_type": "markdown",
   "metadata": {},
   "source": [
    "# Método Burbuja para ordenar listas."
   ]
  },
  {
   "cell_type": "code",
   "execution_count": null,
   "metadata": {},
   "outputs": [],
   "source": [
    "a = [2,0,-5,20,2,100,31,1,44,2,7,87,567]\n",
    "\n",
    "for x in range(len(a)):\n",
    "    for y in range(len(a)):\n",
    "        if a[x] < a[y]:\n",
    "            a[x], a[y] = a[y], a[x]\n",
    "\n",
    "print(a)   "
   ]
  },
  {
   "cell_type": "markdown",
   "metadata": {},
   "source": [
    "## Midiendo los tiempos en forma misteriosa"
   ]
  },
  {
   "cell_type": "code",
   "execution_count": null,
   "metadata": {},
   "outputs": [],
   "source": [
    "import random\n",
    "\n",
    "a = [random.randrange(1,100) for x in range(3000)]\n",
    "b = [random.randrange(1,100) for x in range(3000000)]\n",
    "\n",
    "def burbuja(a):\n",
    "    for x in range(len(a)):\n",
    "        for y in range(len(a)):\n",
    "            if a[x] < a[y]:\n",
    "                a[x], a[y] = a[y], a[x]\n",
    "\n",
    "inicio1 = time.time()\n",
    "burbuja(a)\n",
    "Demora1 = time.time() - inicio1\n",
    "\n",
    "inicio2 = time.time()\n",
    "b.sort()\n",
    "Demora2 = time.time() - inicio2\n",
    "\n",
    "print(\"Burbuja tardo : \", Demora1, \"segundos para\", len(a), \"elementos\")\n",
    "print(\"Sort tardo    : \", Demora2, \"segundos para\", len(b), \"elementos\")"
   ]
  },
  {
   "cell_type": "markdown",
   "metadata": {},
   "source": [
    "# Bucle While\n",
    "### El bucle while se ejecuta mientras que el valor de la condición sea True"
   ]
  },
  {
   "cell_type": "code",
   "execution_count": null,
   "metadata": {},
   "outputs": [],
   "source": [
    "a = 10\n",
    "while a > 0:    #a > 0 es la condición que debe dar True\n",
    "    print(a)\n",
    "    a -= 1\n",
    "    \n",
    "print(\"Fin\")"
   ]
  },
  {
   "cell_type": "code",
   "execution_count": null,
   "metadata": {},
   "outputs": [],
   "source": [
    "a = 0\n",
    "b = True\n",
    "while b:\n",
    "    print(a)\n",
    "    a += 1\n",
    "    if a > 10:\n",
    "        b = False\n",
    "        \n",
    "print(\"Fin\")        "
   ]
  },
  {
   "cell_type": "code",
   "execution_count": null,
   "metadata": {},
   "outputs": [],
   "source": [
    "a = 18\n",
    "while True: #¿que?\n",
    "    print(a)\n",
    "    a += 1\n",
    "    if a % 17 == 0:   #Si A es múltiplo de 17\n",
    "        break\n",
    "\n",
    "print(\"Fin\")"
   ]
  },
  {
   "cell_type": "code",
   "execution_count": null,
   "metadata": {},
   "outputs": [],
   "source": [
    "a = 10\n",
    "while a:   #  ¿While 10?\n",
    "    print(a)\n",
    "    a -= 1\n",
    "    \n",
    "print(\"Fin\")"
   ]
  },
  {
   "cell_type": "markdown",
   "metadata": {},
   "source": [
    "# Todos los números (si, todos) excepto el 0 (cero) valen True"
   ]
  },
  {
   "cell_type": "markdown",
   "metadata": {},
   "source": [
    "<br><br><br><br><font style=\"font-size: 30px\" color='blue'>Desafío matemático</font>\n",
    "## ¿Como hago para ver en pantalla lo siguiente?\n",
    "\n",
    "## Pero esta vez usando <font style=\"font-size: 28px\" color='blue'>While</font>\n",
    "\n",
    "### 2 x 1 = 2\n",
    "### 2 x 2 = 4\n",
    "### 2 x 3 = 6\n",
    "### 2 x 4 = 8\n",
    "### 2 x 5 = 10\n",
    "### 2 x 6 = 12\n",
    "### 2 x 7 = 14\n",
    "### 2 x 8 = 16\n",
    "### 2 x 9 = 18\n",
    "### 2 x 10 = 20"
   ]
  },
  {
   "cell_type": "code",
   "execution_count": null,
   "metadata": {},
   "outputs": [],
   "source": []
  },
  {
   "cell_type": "markdown",
   "metadata": {},
   "source": [
    "# Algo mas con STRINGS\n",
    "\n",
    "# Podemos convertir un string en una lista usando la funcion LIST"
   ]
  },
  {
   "cell_type": "code",
   "execution_count": null,
   "metadata": {},
   "outputs": [],
   "source": [
    "a = \"Hola Mundo\"\n",
    "b = list(a)\n",
    "print(b)"
   ]
  },
  {
   "cell_type": "code",
   "execution_count": null,
   "metadata": {},
   "outputs": [],
   "source": [
    "a = \"Un padre que da consejos mas que padre es un pesado\"\n",
    "b = a.split()\n",
    "c = a.split(\"a\")\n",
    "print(b)\n",
    "print(c)"
   ]
  },
  {
   "cell_type": "markdown",
   "metadata": {},
   "source": [
    "# Desafío\n",
    "## Dados 2 strings indicar si dichos strings son anagramas\n",
    "\n",
    "## Ejemplos de anagramas\n",
    "- cornisa – narciso\n",
    "- matar – marta\n",
    "- enamoramientos – armoniosamente"
   ]
  },
  {
   "cell_type": "code",
   "execution_count": null,
   "metadata": {},
   "outputs": [],
   "source": [
    "a = \"argentino\"\n",
    "b = \"ignorante\"\n",
    "# Poné tu codigo a partir de acá\n",
    "\n"
   ]
  },
  {
   "cell_type": "code",
   "execution_count": null,
   "metadata": {},
   "outputs": [],
   "source": []
  },
  {
   "cell_type": "markdown",
   "metadata": {},
   "source": [
    "# Listas por comprensión\n",
    "## Generan listas tomando como base un iterable (o algo asi)."
   ]
  },
  {
   "cell_type": "code",
   "execution_count": null,
   "metadata": {},
   "outputs": [],
   "source": [
    "a = [x for x in range(10)]\n",
    "print(a)"
   ]
  },
  {
   "cell_type": "markdown",
   "metadata": {},
   "source": [
    "## Su equivalente en código tradicional Python sería algo así:"
   ]
  },
  {
   "cell_type": "code",
   "execution_count": null,
   "metadata": {},
   "outputs": [],
   "source": [
    "a=[]\n",
    "for x in range(10):\n",
    "    a.append(x)\n",
    "    \n",
    "print(a)"
   ]
  },
  {
   "cell_type": "markdown",
   "metadata": {},
   "source": [
    "## Complicándo un poco"
   ]
  },
  {
   "cell_type": "code",
   "execution_count": null,
   "metadata": {},
   "outputs": [],
   "source": [
    "a = [x for x in range(100) if x%3 == 0 and x%4 == 0]\n",
    "print(a)"
   ]
  },
  {
   "cell_type": "code",
   "execution_count": null,
   "metadata": {},
   "outputs": [],
   "source": [
    "a = []\n",
    "for x in range(100):\n",
    "    if x%3 == 0 and x%4 == 0:\n",
    "        a.append(x)\n",
    "        \n",
    "print(a)"
   ]
  },
  {
   "cell_type": "markdown",
   "metadata": {},
   "source": [
    "## Cuadrando impares"
   ]
  },
  {
   "cell_type": "code",
   "execution_count": null,
   "metadata": {},
   "outputs": [],
   "source": [
    "a = [x**2 for x in range(2,101,2)]\n",
    "print(a)"
   ]
  },
  {
   "cell_type": "markdown",
   "metadata": {},
   "source": [
    "## Equivalente a FOR anidados"
   ]
  },
  {
   "cell_type": "code",
   "execution_count": null,
   "metadata": {},
   "outputs": [],
   "source": [
    "a = [x*y for x in range(10) for y in range(7) if x%3 == 0 and y %4 == 0]\n",
    "\n",
    "print(a)"
   ]
  },
  {
   "cell_type": "code",
   "execution_count": null,
   "metadata": {},
   "outputs": [],
   "source": [
    "a = []\n",
    "for x in range(10):\n",
    "    for y in range(7):\n",
    "        if x%3 == 0 and y%4 ==0:\n",
    "            a.append(x*y)\n",
    "            \n",
    "print(a)\n",
    "    "
   ]
  },
  {
   "cell_type": "markdown",
   "metadata": {},
   "source": [
    "## ¿Y cual es la ventaja?\n",
    "### Al ejecutarse en una sola línea, las listas por comprensión son mucho mas rápidas.\n",
    "### A mayor nivel de anidamiento mayor es la diferencia en tiempos\n",
    "## ¿Pero?, siempre hay un \"pero\".\n",
    "### Se vuelve más complicado leer y mantener el codigo con muchos anidamientos."
   ]
  },
  {
   "cell_type": "code",
   "execution_count": null,
   "metadata": {},
   "outputs": [],
   "source": [
    "\n"
   ]
  },
  {
   "cell_type": "markdown",
   "metadata": {},
   "source": [
    "# Conversión de tipos de datos"
   ]
  },
  {
   "cell_type": "code",
   "execution_count": null,
   "metadata": {},
   "outputs": [],
   "source": [
    "a =\"123.45\"\n",
    "b = float(a)\n",
    "print(b)\n",
    "c = int(a)   #No puedo convertir a un entero un valor NO ENTERO"
   ]
  },
  {
   "cell_type": "code",
   "execution_count": null,
   "metadata": {},
   "outputs": [],
   "source": [
    "a =\"123.45\"\n",
    "c = int(float(a))\n",
    "print(c)"
   ]
  },
  {
   "cell_type": "markdown",
   "metadata": {},
   "source": [
    "## Convertir un número a string"
   ]
  },
  {
   "cell_type": "code",
   "execution_count": null,
   "metadata": {},
   "outputs": [],
   "source": [
    "a = 123.45\n",
    "b = str(a)\n",
    "print(b, type(b))"
   ]
  },
  {
   "cell_type": "markdown",
   "metadata": {},
   "source": [
    "<br><br><br><br><font style=\"font-size: 30px\" color='blue'>Desafío</font>\n",
    "## ¿Cuantos 1 hay en este numero?  \n",
    "### 12321232121441\n",
    "### (hay 5)"
   ]
  },
  {
   "cell_type": "code",
   "execution_count": null,
   "metadata": {},
   "outputs": [],
   "source": [
    "a = 12321232121441\n",
    "print(a)\n",
    "#Poné tu código aqui\n"
   ]
  },
  {
   "cell_type": "markdown",
   "metadata": {},
   "source": [
    "# Diccionarios\n",
    "\n",
    "## Un diccionario es una colección NO ordenada de elementos \n",
    "\n",
    "### Los elementos se agrupan por pares <font style=\"font-size: 18px\" color='blue'>Clave : Valor</font> y están delimitados por llaves { }"
   ]
  },
  {
   "cell_type": "code",
   "execution_count": null,
   "metadata": {},
   "outputs": [],
   "source": [
    "edades = {\"juan\": 60 , \"hector\" : 36, \"toto\": [11, 22, 30], \"nada\" : 0}\n",
    "print(edades)\n"
   ]
  },
  {
   "cell_type": "code",
   "execution_count": null,
   "metadata": {},
   "outputs": [],
   "source": [
    "print(edades[\"juan\"])\n",
    "print(edades[\"hector\"] + 5)\n",
    "print(edades[\"toto\"][1])   #¿Que es ESTO?"
   ]
  },
  {
   "cell_type": "markdown",
   "metadata": {},
   "source": [
    "## Así se modifican, agregan y eliminan elementos."
   ]
  },
  {
   "cell_type": "code",
   "execution_count": null,
   "metadata": {},
   "outputs": [],
   "source": [
    "edades[\"hector\"] = 38   #Modificación\n",
    "edades[\"mirta\"] = 120   #Si la clave no está se agrega\n",
    "x = edades.pop(\"juan\")     #Elimina el par y retorna el valor\n",
    "print(x)\n",
    "print(edades)"
   ]
  },
  {
   "cell_type": "markdown",
   "metadata": {},
   "source": [
    "## Agreguemos algunos pares mas."
   ]
  },
  {
   "cell_type": "code",
   "execution_count": null,
   "metadata": {},
   "outputs": [],
   "source": [
    "edades[10] = \"Messi\"\n",
    "edades[(7,11)] = True\n",
    "edades[\"muchos\"] = [x for x in range(20) if x%3 == 0]\n",
    "\n",
    "print(edades)"
   ]
  },
  {
   "cell_type": "markdown",
   "metadata": {},
   "source": [
    "## La clave puede ser <font style=\"font-size: 22px\" color='blue'>Cualquier elemento inmutable</font>\n",
    "### Strings, numeros, tuplas"
   ]
  },
  {
   "cell_type": "code",
   "execution_count": null,
   "metadata": {},
   "outputs": [],
   "source": [
    "cla = edades.keys()    #Las claves del diccionario\n",
    "val = edades.values()  #Los valores del diccionario\n",
    "ele = edades.items()   #Los pares (CLAVE,VALOR) en una (masomenos) LISTA de TUPLAS\n",
    "\n",
    "print(cla)\n",
    "print(val)\n",
    "print(ele)\n",
    "\n",
    "    "
   ]
  },
  {
   "cell_type": "code",
   "execution_count": null,
   "metadata": {},
   "outputs": [],
   "source": [
    "print(type(ele))\n",
    "print(ele[0])"
   ]
  },
  {
   "cell_type": "markdown",
   "metadata": {},
   "source": [
    "## Los objetos dict_keys, dict_values y dict_items son ITERABLES"
   ]
  },
  {
   "cell_type": "code",
   "execution_count": null,
   "metadata": {},
   "outputs": [],
   "source": [
    "for f in ele:\n",
    "    print(f)"
   ]
  },
  {
   "cell_type": "code",
   "execution_count": null,
   "metadata": {},
   "outputs": [],
   "source": [
    "ele2 = list(ele) #La funcion LIST convierte en LISTA objetos ITERABLES\n",
    "print(ele2[0])"
   ]
  },
  {
   "cell_type": "code",
   "execution_count": null,
   "metadata": {},
   "outputs": [],
   "source": [
    "jovencito = \"hector\"\n",
    "print(edades[jovencito])"
   ]
  },
  {
   "cell_type": "markdown",
   "metadata": {},
   "source": [
    "## Se puede utilizar con diccionarios lo siguiente: \n",
    "### seguro se me olvida algo"
   ]
  },
  {
   "cell_type": "markdown",
   "metadata": {},
   "source": [
    "- len()\n",
    "- in\n",
    "- not in\n",
    "      "
   ]
  },
  {
   "cell_type": "code",
   "execution_count": null,
   "metadata": {},
   "outputs": [],
   "source": [
    "print(len(edades))\n",
    "print(\"toto\" in edades)\n",
    "print(\"tito\" in edades)"
   ]
  },
  {
   "cell_type": "markdown",
   "metadata": {},
   "source": [
    "<br><br><br><br><font style=\"font-size: 30px\" color='blue'>Desafío</font>\n",
    "## ¿Qué veremos en pantalla?  "
   ]
  },
  {
   "cell_type": "code",
   "execution_count": null,
   "metadata": {},
   "outputs": [],
   "source": [
    "print(edades[\"toto\"][edades[\"nada\"]])"
   ]
  },
  {
   "cell_type": "code",
   "execution_count": null,
   "metadata": {},
   "outputs": [],
   "source": []
  },
  {
   "cell_type": "markdown",
   "metadata": {},
   "source": [
    "# Funciones$$f(x)$$\n",
    "\n",
    "## Una función es un bloque de código con un nombre asociado, que puede recibir parametros "
   ]
  },
  {
   "cell_type": "code",
   "execution_count": null,
   "metadata": {},
   "outputs": [],
   "source": [
    "def suma(parametro1, parametro2):         #Valores recibidos\n",
    "    \"\"\"Esta función recibe 2 valores y los suma\n",
    "Parámetro1 y Parámetro 2\n",
    "    \"\"\"\n",
    "    resultado = parametro1 + parametro2   #Líneas de código\n",
    "    return resultado                      #Valor de retorno\n",
    "\n",
    "a = suma(10,15)\n",
    "print(suma.__doc__)\n",
    "\n",
    "print(a)"
   ]
  },
  {
   "cell_type": "code",
   "execution_count": null,
   "metadata": {},
   "outputs": [],
   "source": [
    "def ganancia(costo, porciento_ganancia = 20):   #Valor por omición\n",
    "    precioDeVenta = costo + (costo/100 * porciento_ganancia)\n",
    "    return precioDeVenta\n",
    "\n",
    "ganancia(100, 30)\n",
    "\n",
    "    "
   ]
  },
  {
   "cell_type": "markdown",
   "metadata": {},
   "source": [
    "## Parámetros nombrados. Pueden estar fuera de orden."
   ]
  },
  {
   "cell_type": "code",
   "execution_count": null,
   "metadata": {},
   "outputs": [],
   "source": [
    "def PesoPizza(masa, tomate, aceitunas, morron, muzzarella, jamon = 200):\n",
    "    return masa + tomate + aceitunas + morron + muzzarella + jamon\n",
    "\n",
    "gramos = PesoPizza(muzzarella=450, aceitunas=50, tomate=150, masa=600, morron=100)\n",
    "print(gramos)"
   ]
  },
  {
   "cell_type": "markdown",
   "metadata": {},
   "source": [
    "## Mezclando cosas"
   ]
  },
  {
   "cell_type": "code",
   "execution_count": 8,
   "metadata": {},
   "outputs": [
    {
     "name": "stdout",
     "output_type": "stream",
     "text": [
      "tefllaoan ud \n",
      "Fulano de Tal\n"
     ]
    },
    {
     "ename": "NameError",
     "evalue": "name 'x' is not defined",
     "output_type": "error",
     "traceback": [
      "\u001b[1;31m---------------------------------------------------------------------------\u001b[0m",
      "\u001b[1;31mNameError\u001b[0m                                 Traceback (most recent call last)",
      "\u001b[1;32m<ipython-input-8-95453d55b963>\u001b[0m in \u001b[0;36m<module>\u001b[1;34m\u001b[0m\n\u001b[0;32m     12\u001b[0m \u001b[0mprint\u001b[0m\u001b[1;33m(\u001b[0m\u001b[0mmezclarNombre\u001b[0m\u001b[1;33m(\u001b[0m\u001b[0mnombre\u001b[0m\u001b[1;33m)\u001b[0m\u001b[1;33m)\u001b[0m\u001b[1;33m\u001b[0m\u001b[1;33m\u001b[0m\u001b[0m\n\u001b[0;32m     13\u001b[0m \u001b[0mprint\u001b[0m\u001b[1;33m(\u001b[0m\u001b[0mnombre\u001b[0m\u001b[1;33m)\u001b[0m\u001b[1;33m\u001b[0m\u001b[1;33m\u001b[0m\u001b[0m\n\u001b[1;32m---> 14\u001b[1;33m \u001b[0mprint\u001b[0m\u001b[1;33m(\u001b[0m\u001b[0mx\u001b[0m\u001b[1;33m)\u001b[0m\u001b[1;33m\u001b[0m\u001b[1;33m\u001b[0m\u001b[0m\n\u001b[0m",
      "\u001b[1;31mNameError\u001b[0m: name 'x' is not defined"
     ]
    }
   ],
   "source": [
    "import random      #IMPORT?, si que import\n",
    "\n",
    "nombre = \"Fulano de Tal\"\n",
    "\n",
    "def mezclarNombre(nombre):\n",
    "    x = 10\n",
    "    nombre = list(nombre.lower())\n",
    "    random.shuffle(nombre)         #Mezcla la lista\n",
    "    nombre = \"\".join(nombre)       #Agrega los elementos de la lista al string dado\n",
    "    return nombre\n",
    "\n",
    "print(mezclarNombre(nombre))\n",
    "print(nombre)\n",
    "print(x)"
   ]
  },
  {
   "cell_type": "markdown",
   "metadata": {},
   "source": [
    "# Globalizando un poco"
   ]
  },
  {
   "cell_type": "code",
   "execution_count": null,
   "metadata": {},
   "outputs": [],
   "source": [
    "nombre = \"Fulano\"\n",
    "\n",
    "def funcion1(texto):\n",
    "    print(nombre)\n",
    "    print(texto.upper())\n",
    "    # ¿Sin return?\n",
    "\n",
    "def funcion2(texto):\n",
    "    nombre = nombre.upper()\n",
    "    print(texto)\n",
    "    print(nombre)\n",
    "    # ¿Sin return?\n",
    "\n",
    "#funcion1(nombre)\n",
    "funcion2(nombre)"
   ]
  },
  {
   "cell_type": "markdown",
   "metadata": {},
   "source": [
    "# Un \"return\" para todos y todos para uno.\n",
    "## Una función puede devolver un solo valor, pero necesito que sean muchos!"
   ]
  },
  {
   "cell_type": "code",
   "execution_count": null,
   "metadata": {},
   "outputs": [],
   "source": [
    "largo = 10\n",
    "\n",
    "def listero(elementos):\n",
    "    variableLocal = [x for x in range(elementos)]\n",
    "    return variableLocal\n",
    "\n",
    "def tuplero(variable):\n",
    "    return variable, variable * 2, variable **3\n",
    "\n",
    "valor1 = listero(largo)\n",
    "valor2 = tuplero(3)\n",
    "\n",
    "print(valor1, type(valor1))\n",
    "print(valor2, type(valor2))"
   ]
  },
  {
   "cell_type": "markdown",
   "metadata": {},
   "source": [
    "# Hay mucho más con funciones..."
   ]
  },
  {
   "cell_type": "code",
   "execution_count": null,
   "metadata": {},
   "outputs": [],
   "source": []
  },
  {
   "cell_type": "markdown",
   "metadata": {},
   "source": [
    "# Desafío\n",
    "## ¿Cuántas veces aparece  cada letra en el texto?"
   ]
  },
  {
   "cell_type": "code",
   "execution_count": null,
   "metadata": {},
   "outputs": [],
   "source": [
    "a = \"Un Padre que da Consejos mas que Padre es un pesado\"\n",
    "a =  a.replace(\" \",\"\").lower()  #¿what?\n",
    "print(a)\n",
    "lista = list(a)\n",
    "print(lista)\n"
   ]
  },
  {
   "cell_type": "code",
   "execution_count": null,
   "metadata": {},
   "outputs": [],
   "source": [
    "dic = {}\n",
    "for x in lista:\n",
    "    if x in dic:\n",
    "        dic[x] += 1\n",
    "    else:\n",
    "        dic[x] = 1\n",
    "\n",
    "for x in sorted(dic.keys()):\n",
    "    print(\"La \", x.upper(),\"aparece\", dic[x],\"veces\")\n"
   ]
  },
  {
   "cell_type": "code",
   "execution_count": null,
   "metadata": {},
   "outputs": [],
   "source": [
    "\n"
   ]
  },
  {
   "cell_type": "markdown",
   "metadata": {},
   "source": [
    "# Algo más con strings\n",
    "## Formateo de cadenas\n",
    "## Hay mucho MUCHO para ver..."
   ]
  },
  {
   "cell_type": "code",
   "execution_count": null,
   "metadata": {},
   "outputs": [],
   "source": [
    "nombre = \"fulano\"\n",
    "apellido =\"D'Tall\"\n",
    "\n",
    "salida = \"El nombre del tipo es {} y su apelido {}\".format(nombre, apellido)\n",
    "print(salida)"
   ]
  },
  {
   "cell_type": "code",
   "execution_count": null,
   "metadata": {},
   "outputs": [],
   "source": [
    "nombres = (\"juan\",\"Daniela\",\"Tito\",\"Pola\",\"Mamerto\")\n",
    "apellidos = [\"Gomez\",\"Peres\",\"Garcia\",\"Lopez\",\"Wietrzykotski\"]\n",
    "\n",
    "for x in range(len(nombres)):\n",
    "    print(\"El chabón/chabona se llama {1} {0}\".format(nombres[x], apellidos[x]))"
   ]
  },
  {
   "cell_type": "code",
   "execution_count": null,
   "metadata": {},
   "outputs": [],
   "source": []
  },
  {
   "cell_type": "markdown",
   "metadata": {},
   "source": [
    "# Conjuntos (set)\n",
    "## Un conjunto es una colección no ordenada de objetos únicos e INMUTABLES\n",
    "### Los elementos de los conjuntos se delimitan por { } (parecido a los diccionarios)\n",
    "\n",
    "## Para crear un conjunto vacío se usa:\n",
    "# nombre_cualquiera = set()\n",
    "## Usar nombre_cualquiera = {} crea un diccionario vacío. No es lo mismo."
   ]
  },
  {
   "cell_type": "code",
   "execution_count": null,
   "metadata": {},
   "outputs": [],
   "source": [
    "a = {1,3,22,4,1,3,45,2,3,4}\n",
    "print(a)\n",
    "# OBJETOS UNICOS"
   ]
  },
  {
   "cell_type": "code",
   "execution_count": null,
   "metadata": {},
   "outputs": [],
   "source": [
    "a = \"Un Padre que da Consejos mas que Padre es un pesado\"\n",
    "a = list(a.lower().replace(\" \",\"\"))\n",
    "a = set(a)\n",
    "print(a)"
   ]
  },
  {
   "cell_type": "code",
   "execution_count": null,
   "metadata": {},
   "outputs": [],
   "source": [
    "b= \"Yo no sé que no sé nada\".replace(\" \",\"\")\n",
    "b = set(b.lower())\n",
    "print(b)   "
   ]
  },
  {
   "cell_type": "code",
   "execution_count": null,
   "metadata": {},
   "outputs": [],
   "source": [
    "c = a.union(b)\n",
    "print(c)"
   ]
  },
  {
   "cell_type": "code",
   "execution_count": null,
   "metadata": {},
   "outputs": [],
   "source": [
    "c = a.difference(b)\n",
    "c = a - b       #Es lo mismo pero mas corto\n",
    "print(\"Diferencia (resta) a-b: \", c)\n",
    "\n",
    "c = b.difference(a)\n",
    "c = b - a       #Es lo mismo pero mas corto\n",
    "print(\"Diferencia (resta) b-a: \", c)\n",
    "\n",
    "c = a.intersection(b)\n",
    "c = b & a       #Es lo mismo pero mas corto\n",
    "print(\"Intersección: \", c)\n",
    "\n",
    "c = a.union(b)\n",
    "c = a | b        #Es lo mismo pero mas corto\n",
    "print(\"Unión: \", c)\n",
    "\n",
    "c = b.symmetric_difference(a)\n",
    "print(\"En A o en B pero no en ambos; \" ,c)"
   ]
  },
  {
   "cell_type": "markdown",
   "metadata": {},
   "source": [
    "## ¿Como agregamos y quitamos elementos.\n",
    "### Nada de \"append()\", usamos \"add()\"\n"
   ]
  },
  {
   "cell_type": "code",
   "execution_count": null,
   "metadata": {},
   "outputs": [],
   "source": [
    "a.add(22)    #Agrega un nuevo elemento"
   ]
  },
  {
   "cell_type": "code",
   "execution_count": null,
   "metadata": {},
   "outputs": [],
   "source": [
    "print(a)"
   ]
  },
  {
   "cell_type": "code",
   "execution_count": null,
   "metadata": {},
   "outputs": [],
   "source": [
    "t1 = True\n",
    "t2 = 234\n",
    "t4 = 33,44,55,66\n",
    "t3 = [1,2,3]\n",
    "\n",
    "a.add(t1)    #Agrega un nuevo elemento\n",
    "a.add(t2)    #Agrega un nuevo elemento\n",
    "a.add(t3)    #Agrega un nuevo elemento\n",
    "a.add(t4)    #Agrega un nuevo elemento\n",
    "\n",
    "print(a)"
   ]
  },
  {
   "cell_type": "markdown",
   "metadata": {},
   "source": [
    "\n",
    "\n",
    "## Si intentamos eliminar un elemento que no existe usando discard() , NO PASA NADA"
   ]
  },
  {
   "cell_type": "code",
   "execution_count": null,
   "metadata": {},
   "outputs": [],
   "source": [
    "a.discard(\"c\")\n",
    "a.discard(\"c\")\n",
    "a.discard(\"c\")\n",
    "a.discard(\"c\")"
   ]
  },
  {
   "cell_type": "code",
   "execution_count": null,
   "metadata": {},
   "outputs": [],
   "source": [
    "print({1, 2, 3} == {3, 2, 1})"
   ]
  },
  {
   "cell_type": "code",
   "execution_count": null,
   "metadata": {},
   "outputs": [],
   "source": [
    "print({1, 2, 3} == {4, 5, 6})"
   ]
  },
  {
   "cell_type": "markdown",
   "metadata": {},
   "source": [
    "## Se dice que B es un subconjunto de A cuando todos los elementos de aquel pertenecen también a este"
   ]
  },
  {
   "cell_type": "code",
   "execution_count": null,
   "metadata": {},
   "outputs": [],
   "source": [
    "a = {1, 2, 3, 4}\n",
    "b = {2, 3}\n",
    "print(b.issubset(a))\n",
    "print(a.issuperset(b))"
   ]
  },
  {
   "cell_type": "markdown",
   "metadata": {},
   "source": [
    "## La definición de estas dos relaciones nos lleva a concluir que todo conjunto es al mismo tiempo un subconjunto y un superconjunto de sí mismo. "
   ]
  },
  {
   "cell_type": "code",
   "execution_count": null,
   "metadata": {},
   "outputs": [],
   "source": [
    "a = {1, 2, 3, 4}\n",
    "print(a.issubset(a))\n",
    "print(a.issuperset(a))\n"
   ]
  },
  {
   "cell_type": "markdown",
   "metadata": {},
   "source": [
    "# Conjuntos inmutables\n",
    "###  <font style=\"font-size: 22px\" color='blue'>frozenset</font> es una implementación similar a set pero inmutable. Es decir, comparte todas las operaciones de conjuntos a excepción de aquellas que implican alterar sus elementos (add(), discard(), y algunas más no explicadas)"
   ]
  },
  {
   "cell_type": "code",
   "execution_count": null,
   "metadata": {},
   "outputs": [],
   "source": [
    "a = frozenset({1, 2, 3})\n",
    "\n",
    "\n",
    "\n"
   ]
  },
  {
   "cell_type": "markdown",
   "metadata": {},
   "source": [
    "# Usando algunas bibliotecas interesantes.\n",
    "## Sin muchos detalles"
   ]
  },
  {
   "cell_type": "code",
   "execution_count": null,
   "metadata": {},
   "outputs": [],
   "source": [
    "import math\n",
    "print(math.pi)\n",
    "print(math.e)"
   ]
  },
  {
   "cell_type": "code",
   "execution_count": null,
   "metadata": {},
   "outputs": [],
   "source": [
    "print(math.sqrt(81))\n",
    "print(math.sin(3))"
   ]
  },
  {
   "cell_type": "code",
   "execution_count": null,
   "metadata": {},
   "outputs": [],
   "source": [
    "import random\n",
    "import matplotlib.pyplot as plt\n",
    "print(random.random())    #Un número entre 0 y 1"
   ]
  },
  {
   "cell_type": "code",
   "execution_count": null,
   "metadata": {},
   "outputs": [],
   "source": [
    "numeros = [0 for x in range(37)]\n",
    "for x in range(300):\n",
    "    numeros[random.randrange(0,37)] += 1\n",
    "\n",
    "for orden, valor in enumerate(numeros):   #Enumerate retorna una tupla\n",
    "    print(\"el\",orden,\"salió\", valor,\"veces\")\n",
    "    "
   ]
  },
  {
   "cell_type": "code",
   "execution_count": null,
   "metadata": {},
   "outputs": [],
   "source": [
    "plt.plot(numeros)"
   ]
  },
  {
   "cell_type": "markdown",
   "metadata": {},
   "source": [
    "# Archivos de Texto\n",
    "\n",
    "## Lectura"
   ]
  },
  {
   "cell_type": "code",
   "execution_count": null,
   "metadata": {},
   "outputs": [],
   "source": [
    "archivo = open(\"departamentos-en-venta-2005.csv\",\"r\",encoding=\"utf8\")\n",
    "datos = []\n",
    "for x in archivo:\n",
    "    datos.append([x.split(\";\")])\n",
    "archivo.close()"
   ]
  },
  {
   "cell_type": "code",
   "execution_count": null,
   "metadata": {},
   "outputs": [],
   "source": [
    "datos[1]"
   ]
  },
  {
   "cell_type": "markdown",
   "metadata": {},
   "source": [
    "## Escritura\n",
    "### Cuidado con esto.\n",
    "### Usando el atributo \"w\", si el archivo ya existe es eliminado antes de ser creado nuevamente"
   ]
  },
  {
   "cell_type": "code",
   "execution_count": null,
   "metadata": {},
   "outputs": [],
   "source": [
    "import random\n",
    "archivo = open(\"Datos.txt\",\"w\")\n",
    "archivo.write(\"Hola Python\")\n",
    "archivo.write(\"Chau Java\")\n",
    "for x in range(10):\n",
    "    archivo.write(\"Números \" + str(random.randrange(0,50))+\"\\n\")\n",
    "archivo.close()\n"
   ]
  },
  {
   "cell_type": "code",
   "execution_count": null,
   "metadata": {},
   "outputs": [],
   "source": [
    "archivo = open(\"Datos.txt\",\"r\")\n",
    "for x in archivo:\n",
    "    print(x)\n",
    "archivo.close()"
   ]
  },
  {
   "cell_type": "code",
   "execution_count": null,
   "metadata": {},
   "outputs": [],
   "source": [
    "archivo = open(\"Datos.txt\",\"a\")\n",
    "archivo.write(\"Agregando cosas\\n\")\n",
    "\n",
    "for x in range(10):\n",
    "    archivo.write(\"Números \" + str(random.randrange(80,100))+\"\\n\")\n",
    "archivo.close()"
   ]
  },
  {
   "cell_type": "code",
   "execution_count": null,
   "metadata": {},
   "outputs": [],
   "source": [
    "archivo = open(\"Datos.txt\",\"r\")\n",
    "for x in archivo:\n",
    "    print(x)\n",
    "archivo.close()"
   ]
  },
  {
   "cell_type": "markdown",
   "metadata": {},
   "source": [
    "# Matrices\n",
    "## Listas de listas (o algo así)"
   ]
  },
  {
   "cell_type": "code",
   "execution_count": null,
   "metadata": {},
   "outputs": [],
   "source": [
    "a = [[2,4,6],[1,3,5],[3,7,11],[22,33,44],[20,30,40]]\n",
    "print(a)"
   ]
  },
  {
   "cell_type": "code",
   "execution_count": null,
   "metadata": {},
   "outputs": [],
   "source": [
    "print(a[0])   #¿Que hay acá?"
   ]
  },
  {
   "cell_type": "code",
   "execution_count": null,
   "metadata": {},
   "outputs": [],
   "source": [
    "print(type(a))\n",
    "print(len(a))"
   ]
  },
  {
   "cell_type": "code",
   "execution_count": null,
   "metadata": {},
   "outputs": [],
   "source": [
    "print(sum(a))"
   ]
  },
  {
   "cell_type": "markdown",
   "metadata": {},
   "source": [
    "# Para acceder a cada una de las dimensiones de una lista debemos referirnos a la misma por el subindice correspondiente."
   ]
  },
  {
   "cell_type": "code",
   "execution_count": null,
   "metadata": {},
   "outputs": [],
   "source": [
    "print (a[1])"
   ]
  },
  {
   "cell_type": "code",
   "execution_count": null,
   "metadata": {},
   "outputs": [],
   "source": [
    "print (a[1][0])"
   ]
  },
  {
   "cell_type": "markdown",
   "metadata": {},
   "source": [
    "# Combinando conocimientos adquiridos"
   ]
  },
  {
   "cell_type": "code",
   "execution_count": null,
   "metadata": {},
   "outputs": [],
   "source": [
    "for f in a:\n",
    "    for x in f:\n",
    "        print(x)"
   ]
  },
  {
   "cell_type": "markdown",
   "metadata": {},
   "source": [
    "# Desafío\n",
    "## ¿Cuanto suman los valores en la matriz \"a\"?"
   ]
  },
  {
   "cell_type": "code",
   "execution_count": null,
   "metadata": {},
   "outputs": [],
   "source": []
  },
  {
   "cell_type": "markdown",
   "metadata": {},
   "source": [
    "# Manejando excepciones\n",
    "## ¿Esto es un error?"
   ]
  },
  {
   "cell_type": "code",
   "execution_count": null,
   "metadata": {},
   "outputs": [],
   "source": [
    "a = input(\"Ingrese un número\")\n",
    "a = int(a)\n",
    "print(a)"
   ]
  },
  {
   "cell_type": "code",
   "execution_count": null,
   "metadata": {},
   "outputs": [],
   "source": [
    "a = input(\"Ingrese un número\")\n",
    "try:\n",
    "    a = int(a)\n",
    "    print(10/a)\n",
    "except ValueError:\n",
    "    print(\"Usted no está prestando atención.\",a,\" no es un número\")"
   ]
  },
  {
   "cell_type": "code",
   "execution_count": null,
   "metadata": {},
   "outputs": [],
   "source": [
    "a = input(\"Ingrese un número\")\n",
    "try:\n",
    "    a = int(a)\n",
    "    print(10/a)\n",
    "except ValueError:\n",
    "    print(\"Usted no está prestando atención.\",a,\" no es un número\")\n",
    "except ZeroDivisionError:\n",
    "    print(\"No se puede dividir por CERO\")\n",
    "else:\n",
    "    print(\"Todo salio BIEN\")\n",
    "finally:\n",
    "    print(\"El bloque 'FINALY' se ejecuta SIEMPRE\")"
   ]
  },
  {
   "cell_type": "code",
   "execution_count": null,
   "metadata": {},
   "outputs": [],
   "source": []
  },
  {
   "cell_type": "markdown",
   "metadata": {},
   "source": [
    "# Hay más con \"excepciones\"..."
   ]
  },
  {
   "cell_type": "code",
   "execution_count": null,
   "metadata": {},
   "outputs": [],
   "source": []
  },
  {
   "cell_type": "markdown",
   "metadata": {},
   "source": [
    "# DESAFÍOS PARA TODOS Y TODAS.\n",
    "## Secuencia Fibonacci\n",
    "\n",
    "## 1, 1, 2, 3, 5, 8, 13, 21, .. "
   ]
  },
  {
   "cell_type": "code",
   "execution_count": null,
   "metadata": {},
   "outputs": [],
   "source": [
    "lista = [1, 1]\n",
    "?"
   ]
  },
  {
   "cell_type": "code",
   "execution_count": null,
   "metadata": {},
   "outputs": [],
   "source": []
  },
  {
   "cell_type": "markdown",
   "metadata": {},
   "source": [
    "# OBJETOS, clases.\n",
    "\n",
    "## En Python todo lo referente a datos son objetos, y los objetos se construyen con clases."
   ]
  },
  {
   "cell_type": "code",
   "execution_count": 1,
   "metadata": {},
   "outputs": [
    {
     "name": "stdout",
     "output_type": "stream",
     "text": [
      "No tiene\n",
      "0\n",
      "No tiene\n",
      "Argentina\n"
     ]
    }
   ],
   "source": [
    "class persona():\n",
    "    pais = \"Argentina\"\n",
    "    def __init__(self):\n",
    "        self.nombre = \"No tiene\"\n",
    "        self.edad = 0\n",
    "        self.apellido = \"No tiene\"\n",
    "\n",
    "profesor = persona()\n",
    "print(profesor.nombre)\n",
    "print(profesor.edad)\n",
    "print(profesor.apellido)\n",
    "print(persona.pais)"
   ]
  },
  {
   "cell_type": "code",
   "execution_count": 3,
   "metadata": {},
   "outputs": [
    {
     "ename": "NameError",
     "evalue": "name 'profesor' is not defined",
     "output_type": "error",
     "traceback": [
      "\u001b[1;31m---------------------------------------------------------------------------\u001b[0m",
      "\u001b[1;31mNameError\u001b[0m                                 Traceback (most recent call last)",
      "\u001b[1;32m<ipython-input-3-0d313acbfdbb>\u001b[0m in \u001b[0;36m<module>\u001b[1;34m\u001b[0m\n\u001b[1;32m----> 1\u001b[1;33m \u001b[0mprofesor\u001b[0m\u001b[1;33m.\u001b[0m\u001b[0mnombre\u001b[0m\u001b[1;33m=\u001b[0m\u001b[1;34m\"hector\"\u001b[0m\u001b[1;33m\u001b[0m\u001b[1;33m\u001b[0m\u001b[0m\n\u001b[0m\u001b[0;32m      2\u001b[0m \u001b[0mprofesor\u001b[0m\u001b[1;33m.\u001b[0m\u001b[0medad\u001b[0m \u001b[1;33m=\u001b[0m \u001b[1;36m36\u001b[0m\u001b[1;33m\u001b[0m\u001b[1;33m\u001b[0m\u001b[0m\n\u001b[0;32m      3\u001b[0m \u001b[0mpersona\u001b[0m\u001b[1;33m.\u001b[0m\u001b[0mpais\u001b[0m \u001b[1;33m=\u001b[0m \u001b[1;34m\"España\"\u001b[0m\u001b[1;33m\u001b[0m\u001b[1;33m\u001b[0m\u001b[0m\n",
      "\u001b[1;31mNameError\u001b[0m: name 'profesor' is not defined"
     ]
    }
   ],
   "source": [
    "profesor.nombre=\"hector\"\n",
    "profesor.edad = 36\n",
    "persona.pais = \"España\""
   ]
  },
  {
   "cell_type": "code",
   "execution_count": 3,
   "metadata": {},
   "outputs": [
    {
     "name": "stdout",
     "output_type": "stream",
     "text": [
      "hector\n",
      "36\n",
      "No tiene\n",
      "España\n"
     ]
    }
   ],
   "source": [
    "print(profesor.nombre)\n",
    "print(profesor.edad)\n",
    "print(profesor.apellido)\n",
    "print(persona.pais)"
   ]
  },
  {
   "cell_type": "code",
   "execution_count": 6,
   "metadata": {},
   "outputs": [],
   "source": [
    "portero = persona()\n",
    "portero.apellido = \"Feliz\"\n",
    "portero.edad = 65"
   ]
  },
  {
   "cell_type": "code",
   "execution_count": 13,
   "metadata": {},
   "outputs": [
    {
     "name": "stdout",
     "output_type": "stream",
     "text": [
      "No tiene Feliz 65 España\n"
     ]
    }
   ],
   "source": [
    "print(portero.nombre, portero.apellido, portero.edad, persona.pais)"
   ]
  },
  {
   "cell_type": "markdown",
   "metadata": {},
   "source": [
    "<br><br><br>\n",
    "## Lo complicamos un poco"
   ]
  },
  {
   "cell_type": "code",
   "execution_count": 22,
   "metadata": {},
   "outputs": [],
   "source": [
    "class persona():\n",
    "    pais = \"Argentina\"\n",
    "    def __init__(self, nombre, apellido, edad):\n",
    "        self.nombre = nombre\n",
    "        self.edad = edad\n",
    "        self.apellido = apellido\n",
    "        \n",
    "    def hablar(self):\n",
    "        print(self.nombre, \" dice HOLA, tengo \", self.edad, \" años\")\n",
    "    \n",
    "    def __str__(self):\n",
    "        return self.nombre + \"nació hace \" + str(self.edad) + \" años en \" + self.pais"
   ]
  },
  {
   "cell_type": "code",
   "execution_count": 30,
   "metadata": {},
   "outputs": [
    {
     "name": "stdout",
     "output_type": "stream",
     "text": [
      "Leandro\n",
      "Leandro  dice HOLA, tengo  17  años\n"
     ]
    }
   ],
   "source": [
    "alumno = persona(\"Leandro\", \"Morinigo\", 17 )\n",
    "print(alumno.nombre)\n",
    "alumno.hablar()"
   ]
  },
  {
   "cell_type": "code",
   "execution_count": 31,
   "metadata": {},
   "outputs": [
    {
     "name": "stdout",
     "output_type": "stream",
     "text": [
      "me llamo  Candela\n",
      "Candela  dice HOLA, tengo  28  años\n"
     ]
    }
   ],
   "source": [
    "vecina = persona(\"Candela\", \"Cristaldo\", 28 )\n",
    "print(\"me llamo \",vecina.nombre)\n",
    "vecina.hablar()"
   ]
  },
  {
   "cell_type": "code",
   "execution_count": null,
   "metadata": {},
   "outputs": [],
   "source": []
  },
  {
   "cell_type": "markdown",
   "metadata": {},
   "source": [
    "<br><br><br>\n",
    "## Lo complicamos un poco mas"
   ]
  },
  {
   "cell_type": "code",
   "execution_count": 47,
   "metadata": {},
   "outputs": [],
   "source": [
    "class persona():\n",
    "    def __init__(self, nombre=\"anónimo\", edad=0):\n",
    "        self._nombre = nombre.capitalize() \n",
    "        self._edad = edad\n",
    "\n",
    "    @property\n",
    "    def edad(self):\n",
    "        print(\"consultaron la edad\")\n",
    "        return self._edad\n",
    "\n",
    "    @edad.setter\n",
    "    def edad(self, valor):\n",
    "        if valor > 110:\n",
    "            print(\"El maximo es 110\")\n",
    "            valor = 110\n",
    "        elif valor < 5:\n",
    "            print(\"El minimo es 5\")\n",
    "            valor = 5\n",
    "            \n",
    "        self._edad = valor\n",
    "\n",
    "    @property\n",
    "    def nombre(self):\n",
    "        print(\"consultaron el nombre\")\n",
    "        return self._nombre\n",
    "    \n",
    "    @nombre.setter\n",
    "    def nombre(self, nombre):  \n",
    "        self._nombre = nombre\n",
    "    \n",
    "    def __str__(self):\n",
    "        return self.nombre + \" nació hace \" + str(self.edad) +\" años\""
   ]
  },
  {
   "cell_type": "code",
   "execution_count": 52,
   "metadata": {},
   "outputs": [
    {
     "name": "stdout",
     "output_type": "stream",
     "text": [
      "consultaron el nombre\n",
      "Tito\n",
      "consultaron el nombre\n",
      "consultaron la edad\n",
      "Tito nació hace 14 años\n"
     ]
    }
   ],
   "source": [
    "alumno = persona(\"tito\", 14)\n",
    "print(alumno.nombre)\n",
    "print(alumno)\n"
   ]
  },
  {
   "cell_type": "code",
   "execution_count": 43,
   "metadata": {},
   "outputs": [
    {
     "name": "stdout",
     "output_type": "stream",
     "text": [
      "consultaron el nombre\n",
      "Tito\n"
     ]
    }
   ],
   "source": [
    "a = alumno.nombre\n",
    "print(a)"
   ]
  },
  {
   "cell_type": "code",
   "execution_count": 53,
   "metadata": {},
   "outputs": [
    {
     "name": "stdout",
     "output_type": "stream",
     "text": [
      "consultaron el nombre\n",
      "Tito\n",
      "consultaron el nombre\n",
      "consultaron la edad\n",
      "Tito nació hace 14 años\n"
     ]
    }
   ],
   "source": [
    "amigo = persona(\"juan\", 13)\n",
    "print(alumno.nombre)\n",
    "print(alumno)"
   ]
  },
  {
   "cell_type": "code",
   "execution_count": 54,
   "metadata": {},
   "outputs": [
    {
     "name": "stdout",
     "output_type": "stream",
     "text": [
      "consultaron el nombre\n",
      "consultaron la edad\n",
      "Tito 14\n"
     ]
    }
   ],
   "source": [
    "print(alumno.nombre, alumno.edad)"
   ]
  },
  {
   "cell_type": "code",
   "execution_count": 55,
   "metadata": {},
   "outputs": [],
   "source": [
    "lista = [alumno, amigo]\n"
   ]
  },
  {
   "cell_type": "code",
   "execution_count": 57,
   "metadata": {},
   "outputs": [
    {
     "name": "stdout",
     "output_type": "stream",
     "text": [
      "consultaron el nombre\n"
     ]
    },
    {
     "data": {
      "text/plain": [
       "'Juan'"
      ]
     },
     "execution_count": 57,
     "metadata": {},
     "output_type": "execute_result"
    }
   ],
   "source": [
    "lista[1].nombre"
   ]
  },
  {
   "cell_type": "markdown",
   "metadata": {},
   "source": [
    "# Herencia\n",
    "## Siempre soñamos con una buena herencia"
   ]
  },
  {
   "cell_type": "code",
   "execution_count": null,
   "metadata": {},
   "outputs": [],
   "source": [
    "class mamifero():\n",
    "    def __init__(self):\n",
    "        self.patas = 0\n",
    "        self.pelos = True\n",
    "        self.vuela = False\n",
    "        self.camina = True\n",
    "        self.nada = False\n",
    "        self.clase = \"Perro\"\n",
    "    \n",
    "    def moverse():\n",
    "        if self.vuela == True:\n",
    "            print(\"El \", self.clase, \" Vuela \")\n",
    "        \n",
    "        if self.camina == True:\n",
    "            print(\"El \", self.clase, \" Camina \")\n",
    "        \n",
    "        if self.nada == True:\n",
    "            print(\"El \", self.clase, \" Nada \")"
   ]
  }
 ],
 "metadata": {
  "kernelspec": {
   "display_name": "Python 3",
   "language": "python",
   "name": "python3"
  },
  "language_info": {
   "codemirror_mode": {
    "name": "ipython",
    "version": 3
   },
   "file_extension": ".py",
   "mimetype": "text/x-python",
   "name": "python",
   "nbconvert_exporter": "python",
   "pygments_lexer": "ipython3",
   "version": "3.7.6"
  }
 },
 "nbformat": 4,
 "nbformat_minor": 2
}
