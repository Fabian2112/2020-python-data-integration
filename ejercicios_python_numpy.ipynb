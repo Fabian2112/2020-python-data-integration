{
 "cells": [
  {
   "cell_type": "code",
   "execution_count": 1,
   "metadata": {
    "colab": {},
    "colab_type": "code",
    "id": "K9lpQiIRMtxz"
   },
   "outputs": [],
   "source": [
    "import numpy as np\n",
    "\n",
    "def sigmoid(X):\n",
    "    \n",
    "    s=1/(1+np.exp(-X))\n",
    "    ds=s*(1-s)\n",
    "    \n",
    "    return s,ds"
   ]
  },
  {
   "cell_type": "code",
   "execution_count": 2,
   "metadata": {
    "colab": {
     "base_uri": "https://localhost:8080/",
     "height": 50
    },
    "colab_type": "code",
    "executionInfo": {
     "elapsed": 1514,
     "status": "ok",
     "timestamp": 1576949376373,
     "user": {
      "displayName": "Ariel Alegre",
      "photoUrl": "",
      "userId": "12007187886001339528"
     },
     "user_tz": 180
    },
    "id": "oOYarV0RMtx5",
    "outputId": "7dc699a0-17fe-459b-f169-3b336471f7b1"
   },
   "outputs": [
    {
     "data": {
      "text/plain": [
       "(array([0.73105858, 0.88079708, 0.95257413]),\n",
       " array([0.19661193, 0.10499359, 0.04517666]))"
      ]
     },
     "execution_count": 2,
     "metadata": {},
     "output_type": "execute_result"
    }
   ],
   "source": [
    "sigmoid(np.array([1,2,3]))"
   ]
  },
  {
   "cell_type": "code",
   "execution_count": 3,
   "metadata": {
    "colab": {},
    "colab_type": "code",
    "id": "lLPFtQcvMtx9"
   },
   "outputs": [],
   "source": [
    "import matplotlib.pyplot as plt"
   ]
  },
  {
   "cell_type": "code",
   "execution_count": 4,
   "metadata": {
    "colab": {},
    "colab_type": "code",
    "id": "e-UTsUwOMtyA"
   },
   "outputs": [],
   "source": [
    "a=sigmoid(np.arange(-10,10))"
   ]
  },
  {
   "cell_type": "code",
   "execution_count": 5,
   "metadata": {
    "colab": {
     "base_uri": "https://localhost:8080/",
     "height": 282
    },
    "colab_type": "code",
    "executionInfo": {
     "elapsed": 2468,
     "status": "ok",
     "timestamp": 1576949405824,
     "user": {
      "displayName": "Ariel Alegre",
      "photoUrl": "",
      "userId": "12007187886001339528"
     },
     "user_tz": 180
    },
    "id": "05dGADW0MtyD",
    "outputId": "d2eaf74f-8f8c-44c2-bd39-6cae68f366ac"
   },
   "outputs": [
    {
     "data": {
      "text/plain": [
       "[<matplotlib.lines.Line2D at 0x22cd7fb7d30>]"
      ]
     },
     "execution_count": 5,
     "metadata": {},
     "output_type": "execute_result"
    },
    {
     "data": {
      "image/png": "[encoded data removed]",
      "text/plain": [
       "<Figure size 432x288 with 1 Axes>"
      ]
     },
     "metadata": {
      "needs_background": "light"
     },
     "output_type": "display_data"
    }
   ],
   "source": [
    "plt.plot(a[0],'bd')"
   ]
  },
  {
   "cell_type": "code",
   "execution_count": 6,
   "metadata": {
    "colab": {
     "base_uri": "https://localhost:8080/",
     "height": 282
    },
    "colab_type": "code",
    "executionInfo": {
     "elapsed": 1913,
     "status": "ok",
     "timestamp": 1576949415632,
     "user": {
      "displayName": "Ariel Alegre",
      "photoUrl": "",
      "userId": "12007187886001339528"
     },
     "user_tz": 180
    },
    "id": "MUHVljp4MtyG",
    "outputId": "e4e872b1-6240-4653-b6a3-77b594104e88"
   },
   "outputs": [
    {
     "data": {
      "text/plain": [
       "[<matplotlib.lines.Line2D at 0x22cd8071240>]"
      ]
     },
     "execution_count": 6,
     "metadata": {},
     "output_type": "execute_result"
    },
    {
     "data": {
      "image/png": "[encoded data removed]",
      "text/plain": [
       "<Figure size 432x288 with 1 Axes>"
      ]
     },
     "metadata": {
      "needs_background": "light"
     },
     "output_type": "display_data"
    }
   ],
   "source": [
    "plt.plot(a[1],'b')"
   ]
  },
  {
   "cell_type": "code",
   "execution_count": 7,
   "metadata": {
    "colab": {},
    "colab_type": "code",
    "id": "iYq8-zqaMtyJ"
   },
   "outputs": [],
   "source": [
    "narray=np.array([[1,2,3],[4,5,6]])"
   ]
  },
  {
   "cell_type": "code",
   "execution_count": 8,
   "metadata": {
    "colab": {
     "base_uri": "https://localhost:8080/",
     "height": 50
    },
    "colab_type": "code",
    "executionInfo": {
     "elapsed": 1270,
     "status": "ok",
     "timestamp": 1576949435880,
     "user": {
      "displayName": "Ariel Alegre",
      "photoUrl": "",
      "userId": "12007187886001339528"
     },
     "user_tz": 180
    },
    "id": "vjZid9wMMtyM",
    "outputId": "de6e349f-f759-4cd0-c3a2-f12560cfcd33"
   },
   "outputs": [
    {
     "data": {
      "text/plain": [
       "array([[1, 2, 3],\n",
       "       [4, 5, 6]])"
      ]
     },
     "execution_count": 8,
     "metadata": {},
     "output_type": "execute_result"
    }
   ],
   "source": [
    "narray"
   ]
  },
  {
   "cell_type": "code",
   "execution_count": 9,
   "metadata": {
    "colab": {
     "base_uri": "https://localhost:8080/",
     "height": 34
    },
    "colab_type": "code",
    "executionInfo": {
     "elapsed": 1049,
     "status": "ok",
     "timestamp": 1576949459243,
     "user": {
      "displayName": "Ariel Alegre",
      "photoUrl": "",
      "userId": "12007187886001339528"
     },
     "user_tz": 180
    },
    "id": "EA2CAHRxMtyP",
    "outputId": "3abbfbec-2e13-4169-d67f-db11eebc50b1"
   },
   "outputs": [
    {
     "data": {
      "text/plain": [
       "(2, 3)"
      ]
     },
     "execution_count": 9,
     "metadata": {},
     "output_type": "execute_result"
    }
   ],
   "source": [
    "narray.shape"
   ]
  },
  {
   "cell_type": "code",
   "execution_count": 10,
   "metadata": {
    "colab": {
     "base_uri": "https://localhost:8080/",
     "height": 34
    },
    "colab_type": "code",
    "executionInfo": {
     "elapsed": 2311,
     "status": "ok",
     "timestamp": 1576949608018,
     "user": {
      "displayName": "Ariel Alegre",
      "photoUrl": "",
      "userId": "12007187886001339528"
     },
     "user_tz": 180
    },
    "id": "TOEaMFanMtyT",
    "outputId": "90eb91c0-82a9-40eb-c7f9-2ed178ac6a6d"
   },
   "outputs": [
    {
     "data": {
      "text/plain": [
       "3"
      ]
     },
     "execution_count": 10,
     "metadata": {},
     "output_type": "execute_result"
    }
   ],
   "source": [
    "narray.shape[1]"
   ]
  },
  {
   "cell_type": "markdown",
   "metadata": {
    "colab_type": "text",
    "id": "yNMxVbRrte8I"
   },
   "source": []
  },
  {
   "cell_type": "code",
   "execution_count": 11,
   "metadata": {
    "colab": {
     "base_uri": "https://localhost:8080/",
     "height": 35
    },
    "colab_type": "code",
    "executionInfo": {
     "elapsed": 727,
     "status": "ok",
     "timestamp": 1574534134803,
     "user": {
      "displayName": "Hector Caballero",
      "photoUrl": "https://lh3.googleusercontent.com/a-/AAuE7mDrt13iMwPAV_d2Ujo2kF-LcaQeK4nmm_vdJ3It0w=s64",
      "userId": "01310170558746808305"
     },
     "user_tz": 180
    },
    "id": "3eQVy84NMtyW",
    "outputId": "fe3a3117-963f-4576-ffe3-d961aeda2d05"
   },
   "outputs": [
    {
     "data": {
      "text/plain": [
       "3"
      ]
     },
     "execution_count": 11,
     "metadata": {},
     "output_type": "execute_result"
    }
   ],
   "source": [
    "narray.shape[1]"
   ]
  },
  {
   "cell_type": "code",
   "execution_count": 12,
   "metadata": {
    "colab": {
     "base_uri": "https://localhost:8080/",
     "height": 118
    },
    "colab_type": "code",
    "executionInfo": {
     "elapsed": 939,
     "status": "ok",
     "timestamp": 1576949620241,
     "user": {
      "displayName": "Ariel Alegre",
      "photoUrl": "",
      "userId": "12007187886001339528"
     },
     "user_tz": 180
    },
    "id": "fCO4PkCcMtyZ",
    "outputId": "9bf42c04-e3a5-4973-ab0e-4fe913d9544d"
   },
   "outputs": [
    {
     "data": {
      "text/plain": [
       "array([[1],\n",
       "       [2],\n",
       "       [3],\n",
       "       [4],\n",
       "       [5],\n",
       "       [6]])"
      ]
     },
     "execution_count": 12,
     "metadata": {},
     "output_type": "execute_result"
    }
   ],
   "source": [
    "narray.reshape(6,1)"
   ]
  },
  {
   "cell_type": "code",
   "execution_count": 13,
   "metadata": {
    "colab": {
     "base_uri": "https://localhost:8080/",
     "height": 118
    },
    "colab_type": "code",
    "executionInfo": {
     "elapsed": 955,
     "status": "ok",
     "timestamp": 1576949642656,
     "user": {
      "displayName": "Ariel Alegre",
      "photoUrl": "",
      "userId": "12007187886001339528"
     },
     "user_tz": 180
    },
    "id": "UN9qfCsNMtyc",
    "outputId": "013ac34d-decc-4b0e-f133-70f5e0a48c0b"
   },
   "outputs": [
    {
     "data": {
      "text/plain": [
       "array([[1],\n",
       "       [2],\n",
       "       [3],\n",
       "       [4],\n",
       "       [5],\n",
       "       [6]])"
      ]
     },
     "execution_count": 13,
     "metadata": {},
     "output_type": "execute_result"
    }
   ],
   "source": [
    "narray.reshape(narray.shape[0]*narray.shape[1],1)"
   ]
  },
  {
   "cell_type": "code",
   "execution_count": 14,
   "metadata": {
    "colab": {
     "base_uri": "https://localhost:8080/",
     "height": 118
    },
    "colab_type": "code",
    "executionInfo": {
     "elapsed": 943,
     "status": "ok",
     "timestamp": 1576949667273,
     "user": {
      "displayName": "Ariel Alegre",
      "photoUrl": "",
      "userId": "12007187886001339528"
     },
     "user_tz": 180
    },
    "id": "x-RCUgBAMtyf",
    "outputId": "f81ad132-04ca-46cc-c0e0-b06d8e274d5e"
   },
   "outputs": [
    {
     "data": {
      "text/plain": [
       "array([[1],\n",
       "       [2],\n",
       "       [3],\n",
       "       [4],\n",
       "       [5],\n",
       "       [6]])"
      ]
     },
     "execution_count": 14,
     "metadata": {},
     "output_type": "execute_result"
    }
   ],
   "source": [
    "narray.reshape(-1,1)"
   ]
  },
  {
   "cell_type": "code",
   "execution_count": 15,
   "metadata": {
    "colab": {
     "base_uri": "https://localhost:8080/",
     "height": 118
    },
    "colab_type": "code",
    "executionInfo": {
     "elapsed": 927,
     "status": "ok",
     "timestamp": 1576949671313,
     "user": {
      "displayName": "Ariel Alegre",
      "photoUrl": "",
      "userId": "12007187886001339528"
     },
     "user_tz": 180
    },
    "id": "T-ZhNNhMMtyi",
    "outputId": "572c5ad5-b12b-402d-c2ca-2aeb643e008a"
   },
   "outputs": [
    {
     "data": {
      "text/plain": [
       "array([[1],\n",
       "       [2],\n",
       "       [3],\n",
       "       [4],\n",
       "       [5],\n",
       "       [6]])"
      ]
     },
     "execution_count": 15,
     "metadata": {},
     "output_type": "execute_result"
    }
   ],
   "source": [
    "narray.reshape(1,-1).T"
   ]
  },
  {
   "cell_type": "code",
   "execution_count": 16,
   "metadata": {
    "colab": {
     "base_uri": "https://localhost:8080/",
     "height": 50
    },
    "colab_type": "code",
    "executionInfo": {
     "elapsed": 957,
     "status": "ok",
     "timestamp": 1576949685105,
     "user": {
      "displayName": "Ariel Alegre",
      "photoUrl": "",
      "userId": "12007187886001339528"
     },
     "user_tz": 180
    },
    "id": "emCJvDqJMtyl",
    "outputId": "50e5c9a8-1ff4-407a-e213-af2686c84c39"
   },
   "outputs": [
    {
     "data": {
      "text/plain": [
       "array([[1, 2, 3],\n",
       "       [4, 5, 6]])"
      ]
     },
     "execution_count": 16,
     "metadata": {},
     "output_type": "execute_result"
    }
   ],
   "source": [
    "narray"
   ]
  },
  {
   "cell_type": "code",
   "execution_count": 17,
   "metadata": {
    "colab": {},
    "colab_type": "code",
    "id": "jjh1JtPIMtyq"
   },
   "outputs": [],
   "source": [
    "x_norm=np.linalg.norm(narray,axis=1, keepdims=True)"
   ]
  },
  {
   "cell_type": "code",
   "execution_count": 18,
   "metadata": {
    "colab": {
     "base_uri": "https://localhost:8080/",
     "height": 50
    },
    "colab_type": "code",
    "executionInfo": {
     "elapsed": 1485,
     "status": "ok",
     "timestamp": 1576949735208,
     "user": {
      "displayName": "Ariel Alegre",
      "photoUrl": "",
      "userId": "12007187886001339528"
     },
     "user_tz": 180
    },
    "id": "3_0sKbhcMtys",
    "outputId": "617ea35c-d4bd-4153-e4e8-6b863b461630"
   },
   "outputs": [
    {
     "data": {
      "text/plain": [
       "array([[3.74165739],\n",
       "       [8.77496439]])"
      ]
     },
     "execution_count": 18,
     "metadata": {},
     "output_type": "execute_result"
    }
   ],
   "source": [
    "x_norm"
   ]
  },
  {
   "cell_type": "code",
   "execution_count": 19,
   "metadata": {
    "colab": {
     "base_uri": "https://localhost:8080/",
     "height": 50
    },
    "colab_type": "code",
    "executionInfo": {
     "elapsed": 976,
     "status": "ok",
     "timestamp": 1576949760222,
     "user": {
      "displayName": "Ariel Alegre",
      "photoUrl": "",
      "userId": "12007187886001339528"
     },
     "user_tz": 180
    },
    "id": "KCL5KUrwMtyv",
    "outputId": "03219897-a42a-4365-f53b-1feb7d26fab6"
   },
   "outputs": [
    {
     "data": {
      "text/plain": [
       "array([[0.26726124, 0.53452248, 0.80178373],\n",
       "       [0.45584231, 0.56980288, 0.68376346]])"
      ]
     },
     "execution_count": 19,
     "metadata": {},
     "output_type": "execute_result"
    }
   ],
   "source": [
    "narray/x_norm"
   ]
  },
  {
   "cell_type": "code",
   "execution_count": 20,
   "metadata": {
    "colab": {
     "base_uri": "https://localhost:8080/",
     "height": 52
    },
    "colab_type": "code",
    "executionInfo": {
     "elapsed": 704,
     "status": "ok",
     "timestamp": 1574534370544,
     "user": {
      "displayName": "Hector Caballero",
      "photoUrl": "https://lh3.googleusercontent.com/a-/AAuE7mDrt13iMwPAV_d2Ujo2kF-LcaQeK4nmm_vdJ3It0w=s64",
      "userId": "01310170558746808305"
     },
     "user_tz": 180
    },
    "id": "seW5ZEX0Mtyy",
    "outputId": "0abd4684-74aa-41c9-ccca-a2f3fd943a0f"
   },
   "outputs": [
    {
     "data": {
      "text/plain": [
       "array([[1, 2, 3],\n",
       "       [4, 5, 6]])"
      ]
     },
     "execution_count": 20,
     "metadata": {},
     "output_type": "execute_result"
    }
   ],
   "source": [
    "narray"
   ]
  },
  {
   "cell_type": "code",
   "execution_count": 21,
   "metadata": {
    "colab": {},
    "colab_type": "code",
    "id": "qQ_FN92AMty2"
   },
   "outputs": [],
   "source": [
    "narray=np.array([2,3,4,7,5,4,3,2,1,1])"
   ]
  },
  {
   "cell_type": "code",
   "execution_count": 22,
   "metadata": {
    "colab": {},
    "colab_type": "code",
    "id": "RYnx876SMty6"
   },
   "outputs": [],
   "source": [
    "x_exp=np.exp(narray)"
   ]
  },
  {
   "cell_type": "code",
   "execution_count": 23,
   "metadata": {
    "colab": {
     "base_uri": "https://localhost:8080/",
     "height": 67
    },
    "colab_type": "code",
    "executionInfo": {
     "elapsed": 1408,
     "status": "ok",
     "timestamp": 1576949817266,
     "user": {
      "displayName": "Ariel Alegre",
      "photoUrl": "",
      "userId": "12007187886001339528"
     },
     "user_tz": 180
    },
    "id": "oQkYGDfRMty9",
    "outputId": "4db3c881-cffb-4d51-9944-b44f4f6f723f"
   },
   "outputs": [
    {
     "data": {
      "text/plain": [
       "array([   7.3890561 ,   20.08553692,   54.59815003, 1096.63315843,\n",
       "        148.4131591 ,   54.59815003,   20.08553692,    7.3890561 ,\n",
       "          2.71828183,    2.71828183])"
      ]
     },
     "execution_count": 23,
     "metadata": {},
     "output_type": "execute_result"
    }
   ],
   "source": [
    "x_exp"
   ]
  },
  {
   "cell_type": "code",
   "execution_count": 24,
   "metadata": {
    "colab": {},
    "colab_type": "code",
    "id": "JhTvpqn-MtzA"
   },
   "outputs": [],
   "source": [
    "x_sum=np.sum(x_exp,keepdims=True)"
   ]
  },
  {
   "cell_type": "code",
   "execution_count": 25,
   "metadata": {
    "colab": {},
    "colab_type": "code",
    "id": "YJlVoX6BMtzC"
   },
   "outputs": [],
   "source": [
    "soft=x_exp/x_sum"
   ]
  },
  {
   "cell_type": "code",
   "execution_count": 26,
   "metadata": {
    "colab": {
     "base_uri": "https://localhost:8080/",
     "height": 34
    },
    "colab_type": "code",
    "executionInfo": {
     "elapsed": 942,
     "status": "ok",
     "timestamp": 1576949841476,
     "user": {
      "displayName": "Ariel Alegre",
      "photoUrl": "",
      "userId": "12007187886001339528"
     },
     "user_tz": 180
    },
    "id": "JRWTeEu2MtzG",
    "outputId": "dee02cca-d968-45c9-8969-5ea21c55019a"
   },
   "outputs": [
    {
     "data": {
      "text/plain": [
       "0.9999999999999998"
      ]
     },
     "execution_count": 26,
     "metadata": {},
     "output_type": "execute_result"
    }
   ],
   "source": [
    "np.sum(soft)"
   ]
  },
  {
   "cell_type": "code",
   "execution_count": 27,
   "metadata": {
    "colab": {
     "base_uri": "https://localhost:8080/",
     "height": 50
    },
    "colab_type": "code",
    "executionInfo": {
     "elapsed": 1334,
     "status": "ok",
     "timestamp": 1576949847536,
     "user": {
      "displayName": "Ariel Alegre",
      "photoUrl": "",
      "userId": "12007187886001339528"
     },
     "user_tz": 180
    },
    "id": "jaXXqPUUMtzJ",
    "outputId": "d4254ed1-ed14-4556-dff0-6c3c857c9922"
   },
   "outputs": [
    {
     "data": {
      "text/plain": [
       "array([0.00522332, 0.01419845, 0.0385954 , 0.77520937, 0.10491318,\n",
       "       0.0385954 , 0.01419845, 0.00522332, 0.00192155, 0.00192155])"
      ]
     },
     "execution_count": 27,
     "metadata": {},
     "output_type": "execute_result"
    }
   ],
   "source": [
    "soft"
   ]
  },
  {
   "cell_type": "code",
   "execution_count": 28,
   "metadata": {
    "colab": {},
    "colab_type": "code",
    "id": "TGszKKrNMtzM"
   },
   "outputs": [],
   "source": [
    "matriz_a=np.random.rand(3,50000)"
   ]
  },
  {
   "cell_type": "code",
   "execution_count": 29,
   "metadata": {
    "colab": {},
    "colab_type": "code",
    "id": "pq2jvh7cMtzP"
   },
   "outputs": [],
   "source": [
    "matriz_b=np.random.rand(50000,4)"
   ]
  },
  {
   "cell_type": "code",
   "execution_count": 30,
   "metadata": {
    "colab": {},
    "colab_type": "code",
    "id": "1vnrpcy5MtzS"
   },
   "outputs": [],
   "source": [
    "cero=np.zeros((matriz_a.shape[0],matriz_b.shape[1]))\n",
    "for i in range(matriz_a.shape[0]):\n",
    "    for j in range(matriz_b.shape[1]):\n",
    "        for k in range(matriz_a.shape[1]):\n",
    "            cero[i,j] += matriz_a[i,k]*matriz_b[k,j]"
   ]
  },
  {
   "cell_type": "code",
   "execution_count": 31,
   "metadata": {
    "colab": {
     "base_uri": "https://localhost:8080/",
     "height": 67
    },
    "colab_type": "code",
    "executionInfo": {
     "elapsed": 1336,
     "status": "ok",
     "timestamp": 1576949904518,
     "user": {
      "displayName": "Ariel Alegre",
      "photoUrl": "",
      "userId": "12007187886001339528"
     },
     "user_tz": 180
    },
    "id": "9IJ2jkCfMtzV",
    "outputId": "7cce0299-cb6a-4f2b-d0c6-9f5e052a2243"
   },
   "outputs": [
    {
     "data": {
      "text/plain": [
       "array([[12455.0206144 , 12391.06254866, 12451.16493093, 12504.39719424],\n",
       "       [12421.15452652, 12362.31072342, 12433.97455402, 12506.00651662],\n",
       "       [12474.54514415, 12444.93457522, 12527.61302942, 12530.90553215]])"
      ]
     },
     "execution_count": 31,
     "metadata": {},
     "output_type": "execute_result"
    }
   ],
   "source": [
    "cero"
   ]
  },
  {
   "cell_type": "code",
   "execution_count": 32,
   "metadata": {
    "colab": {},
    "colab_type": "code",
    "id": "TT_pj_CHMtzY"
   },
   "outputs": [],
   "source": [
    "cero_vect=np.dot(matriz_a,matriz_b)"
   ]
  },
  {
   "cell_type": "code",
   "execution_count": 33,
   "metadata": {
    "colab": {
     "base_uri": "https://localhost:8080/",
     "height": 67
    },
    "colab_type": "code",
    "executionInfo": {
     "elapsed": 1266,
     "status": "ok",
     "timestamp": 1576949948897,
     "user": {
      "displayName": "Ariel Alegre",
      "photoUrl": "",
      "userId": "12007187886001339528"
     },
     "user_tz": 180
    },
    "id": "dMLBrKcbMtzd",
    "outputId": "94eb1942-80ba-4ae9-b7ac-593e47b777a6"
   },
   "outputs": [
    {
     "data": {
      "text/plain": [
       "array([[12455.0206144 , 12391.06254866, 12451.16493093, 12504.39719424],\n",
       "       [12421.15452652, 12362.31072342, 12433.97455402, 12506.00651662],\n",
       "       [12474.54514415, 12444.93457522, 12527.61302942, 12530.90553215]])"
      ]
     },
     "execution_count": 33,
     "metadata": {},
     "output_type": "execute_result"
    }
   ],
   "source": [
    "cero_vect"
   ]
  },
  {
   "cell_type": "code",
   "execution_count": 34,
   "metadata": {
    "colab": {},
    "colab_type": "code",
    "id": "EyuqXEFhMtzi"
   },
   "outputs": [],
   "source": [
    "import time"
   ]
  },
  {
   "cell_type": "code",
   "execution_count": 35,
   "metadata": {
    "colab": {
     "base_uri": "https://localhost:8080/",
     "height": 34
    },
    "colab_type": "code",
    "executionInfo": {
     "elapsed": 1670,
     "status": "ok",
     "timestamp": 1576949961513,
     "user": {
      "displayName": "Ariel Alegre",
      "photoUrl": "",
      "userId": "12007187886001339528"
     },
     "user_tz": 180
    },
    "id": "xwCb7uhZMtzl",
    "outputId": "d6642dca-e274-497d-bd97-7d239f22f06f"
   },
   "outputs": [
    {
     "name": "stdout",
     "output_type": "stream",
     "text": [
      "0.5006608963012695\n"
     ]
    }
   ],
   "source": [
    "start=time.time()\n",
    "cero=np.zeros((matriz_a.shape[0],matriz_b.shape[1]))\n",
    "for i in range(matriz_a.shape[0]):\n",
    "    for j in range(matriz_b.shape[1]):\n",
    "        for k in range(matriz_a.shape[1]):\n",
    "            cero[i,j] += matriz_a[i,k]*matriz_b[k,j]\n",
    "\n",
    "stop=time.time()\n",
    "print(stop-start)"
   ]
  },
  {
   "cell_type": "code",
   "execution_count": 36,
   "metadata": {
    "colab": {
     "base_uri": "https://localhost:8080/",
     "height": 34
    },
    "colab_type": "code",
    "executionInfo": {
     "elapsed": 1621,
     "status": "ok",
     "timestamp": 1576949966586,
     "user": {
      "displayName": "Ariel Alegre",
      "photoUrl": "",
      "userId": "12007187886001339528"
     },
     "user_tz": 180
    },
    "id": "E8_XgNnhMtzq",
    "outputId": "2e442ad9-2606-4979-af98-01390b5db264"
   },
   "outputs": [
    {
     "name": "stdout",
     "output_type": "stream",
     "text": [
      "0.02493453025817871\n"
     ]
    }
   ],
   "source": [
    "start1=time.time()\n",
    "cero_vect=matriz_a @ matriz_b\n",
    "stop1=time.time()\n",
    "print(stop1-start1)"
   ]
  },
  {
   "cell_type": "code",
   "execution_count": 37,
   "metadata": {
    "colab": {
     "base_uri": "https://localhost:8080/",
     "height": 34
    },
    "colab_type": "code",
    "executionInfo": {
     "elapsed": 1510,
     "status": "ok",
     "timestamp": 1576949971623,
     "user": {
      "displayName": "Ariel Alegre",
      "photoUrl": "",
      "userId": "12007187886001339528"
     },
     "user_tz": 180
    },
    "id": "f8_BLx7pMtzu",
    "outputId": "13dad394-d1cc-40d8-cc8d-5bb8a24a3332"
   },
   "outputs": [
    {
     "name": "stdout",
     "output_type": "stream",
     "text": [
      "20.07901857854527\n"
     ]
    }
   ],
   "source": [
    "print((stop-start)/(stop1-start1))"
   ]
  },
  {
   "cell_type": "code",
   "execution_count": 38,
   "metadata": {
    "colab": {},
    "colab_type": "code",
    "id": "u8H1KhQ5Mtzx"
   },
   "outputs": [],
   "source": [
    "yhat=np.array([.9,.2,.1,.4,.9])\n",
    "y=np.array([1,0,0,1,1])"
   ]
  },
  {
   "cell_type": "code",
   "execution_count": 39,
   "metadata": {
    "colab": {
     "base_uri": "https://localhost:8080/",
     "height": 34
    },
    "colab_type": "code",
    "executionInfo": {
     "elapsed": 961,
     "status": "ok",
     "timestamp": 1576950025312,
     "user": {
      "displayName": "Ariel Alegre",
      "photoUrl": "",
      "userId": "12007187886001339528"
     },
     "user_tz": 180
    },
    "id": "bkr3Rd3iMtz0",
    "outputId": "5854b250-0549-4750-d393-201053f94f88"
   },
   "outputs": [
    {
     "data": {
      "text/plain": [
       "array([ 0.1, -0.2, -0.1,  0.6,  0.1])"
      ]
     },
     "execution_count": 39,
     "metadata": {},
     "output_type": "execute_result"
    }
   ],
   "source": [
    "y-yhat"
   ]
  },
  {
   "cell_type": "code",
   "execution_count": 40,
   "metadata": {
    "colab": {
     "base_uri": "https://localhost:8080/",
     "height": 34
    },
    "colab_type": "code",
    "executionInfo": {
     "elapsed": 962,
     "status": "ok",
     "timestamp": 1576950030193,
     "user": {
      "displayName": "Ariel Alegre",
      "photoUrl": "",
      "userId": "12007187886001339528"
     },
     "user_tz": 180
    },
    "id": "RQG0h3VeMtz3",
    "outputId": "e9aa180f-87e8-47f7-9985-b70c55b4d6c6"
   },
   "outputs": [
    {
     "data": {
      "text/plain": [
       "1.1"
      ]
     },
     "execution_count": 40,
     "metadata": {},
     "output_type": "execute_result"
    }
   ],
   "source": [
    "np.sum(abs(y-yhat))"
   ]
  },
  {
   "cell_type": "code",
   "execution_count": 0,
   "metadata": {
    "colab": {
     "base_uri": "https://localhost:8080/",
     "height": 35
    },
    "colab_type": "code",
    "executionInfo": {
     "elapsed": 692,
     "status": "ok",
     "timestamp": 1574534795529,
     "user": {
      "displayName": "Hector Caballero",
      "photoUrl": "https://lh3.googleusercontent.com/a-/AAuE7mDrt13iMwPAV_d2Ujo2kF-LcaQeK4nmm_vdJ3It0w=s64",
      "userId": "01310170558746808305"
     },
     "user_tz": 180
    },
    "id": "C1J6ZBlsMtz7",
    "outputId": "9a66c062-d533-4b92-da7b-196c79851474"
   },
   "outputs": [
    {
     "data": {
      "text/plain": [
       "0.43"
      ]
     },
     "execution_count": 55,
     "metadata": {
      "tags": []
     },
     "output_type": "execute_result"
    }
   ],
   "source": [
    "np.sum((y-yhat)**2)"
   ]
  },
  {
   "cell_type": "code",
   "execution_count": 0,
   "metadata": {
    "colab": {},
    "colab_type": "code",
    "id": "MIo0nmsUMtz_"
   },
   "outputs": [],
   "source": []
  }
 ],
 "metadata": {
  "colab": {
   "name": "ejerccios_python_numpy.ipynb",
   "provenance": []
  },
  "kernelspec": {
   "display_name": "Python 3",
   "language": "python",
   "name": "python3"
  },
  "language_info": {
   "codemirror_mode": {
    "name": "ipython",
    "version": 3
   },
   "file_extension": ".py",
   "mimetype": "text/x-python",
   "name": "python",
   "nbconvert_exporter": "python",
   "pygments_lexer": "ipython3",
   "version": "3.7.3"
  }
 },
 "nbformat": 4,
 "nbformat_minor": 1
}
